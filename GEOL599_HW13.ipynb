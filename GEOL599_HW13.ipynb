{
 "cells": [
  {
   "cell_type": "code",
   "execution_count": 9,
   "id": "5cbe558e-be3b-4064-99c2-8d44efbec964",
   "metadata": {},
   "outputs": [],
   "source": [
    "import pandas as pd\n",
    "import numpy as np\n",
    "from matplotlib import pyplot as plt\n",
    "import seaborn as sns\n",
    "from sklearn.linear_model import LinearRegression\n",
    "from sklearn.neural_network import MLPRegressor\n",
    "from sklearn.metrics import mean_squared_error\n",
    "from sklearn.model_selection import train_test_split"
   ]
  },
  {
   "cell_type": "markdown",
   "id": "55b8c64b-e85b-428c-8a2c-2e92e1a758ec",
   "metadata": {},
   "source": [
    "## Questions and Answers\n",
    "1. The neural network regression model performed better than the baseline linear regression model, but the difference was relatively small (MSE decreased by ~0.01).\n",
    "2. The cost function is \"adam\", or the squared error using stochastic gradient descent.\n",
    "3. See table under Neural Network Table.\n",
    "4. From the table, I can conclude that having more layers does not always improve predictive skills. However, increading number of nodes per layer does improve preditive skills.\n",
    "5. When I changed the activation function from 'relu' to 'logistics', the mean squared error decreased for almost all options of nodes, except for (1), (1,16), (1,1,1,1,1) where the mean squared error stays the same."
   ]
  },
  {
   "cell_type": "code",
   "execution_count": 2,
   "id": "ce10e8d0-bf95-460d-8b73-51fd1244fcca",
   "metadata": {},
   "outputs": [
    {
     "name": "stderr",
     "output_type": "stream",
     "text": [
      "<>:1: SyntaxWarning: invalid escape sequence '\\s'\n",
      "<>:1: SyntaxWarning: invalid escape sequence '\\s'\n",
      "C:\\Users\\Thaomy\\AppData\\Local\\Temp\\ipykernel_7340\\3125395425.py:1: SyntaxWarning: invalid escape sequence '\\s'\n",
      "  df = pd.read_csv('Waves_2023.txt', sep='\\s+')\n"
     ]
    }
   ],
   "source": [
    "df = pd.read_csv('Waves_2023.txt', sep='\\s+') "
   ]
  },
  {
   "cell_type": "code",
   "execution_count": 5,
   "id": "d98a527a-31db-480f-a5ce-0eda5cee36e7",
   "metadata": {},
   "outputs": [
    {
     "name": "stdout",
     "output_type": "stream",
     "text": [
      "[[ 12.5    7.69 269.    15.3 ]\n",
      " [ 11.76   7.34 272.    15.3 ]\n",
      " [ 12.5    7.08 268.    15.3 ]\n",
      " ...\n",
      " [ 13.33  10.5  268.    16.8 ]\n",
      " [ 14.29  10.32 271.    16.8 ]\n",
      " [ 12.5   10.54 271.    16.9 ]]\n",
      "[1.12 1.16 1.2  ... 1.79 1.66 1.7 ]\n"
     ]
    }
   ],
   "source": [
    "df1 = df[['WVHT', 'DPD', 'APD', 'MWD', 'WTMP']]\n",
    "df1 = df1[(df1.WVHT < 99) | (df1.DPD < 99) | (df1.APD < 99) | (df1.MWD < 990)]\n",
    "\n",
    "Xvar = df1[['DPD','APD','MWD','WTMP']].to_numpy()\n",
    "yvar = np.array(df1['WVHT'])\n",
    "\n",
    "print(Xvar)\n",
    "print(yvar)"
   ]
  },
  {
   "cell_type": "code",
   "execution_count": 6,
   "id": "f0d54981-79eb-490c-aafd-ebeb65f88909",
   "metadata": {},
   "outputs": [],
   "source": [
    "# I want 75% train, 10% test, 15% validate\n",
    "X, X_test, y, y_test = train_test_split(Xvar, yvar, test_size=0.10)\n",
    "X_train, X_val, y_train, y_val = train_test_split(X, y, test_size=0.167)"
   ]
  },
  {
   "cell_type": "markdown",
   "id": "cba85df7-972f-475a-84fc-ed354dfcc5af",
   "metadata": {},
   "source": [
    "## Baseline: Linear Model"
   ]
  },
  {
   "cell_type": "code",
   "execution_count": 8,
   "id": "20a4f9c5-0db6-48a6-8116-da74ad259a1c",
   "metadata": {},
   "outputs": [
    {
     "name": "stdout",
     "output_type": "stream",
     "text": [
      "0.19821913148311102\n",
      "0.19187794204327813\n",
      "0.18237403438330343\n"
     ]
    }
   ],
   "source": [
    "linear = LinearRegression()\n",
    "linear.fit(X_train, y_train)\n",
    "y_train_pred = linear.predict(X_train)\n",
    "y_val_pred = linear.predict(X_val)\n",
    "y_test_pred = linear.predict(X_test)\n",
    "\n",
    "print(mean_squared_error(y_train, y_train_pred))\n",
    "print(mean_squared_error(y_val, y_val_pred))\n",
    "print(mean_squared_error(y_test, y_test_pred))"
   ]
  },
  {
   "cell_type": "markdown",
   "id": "b6a8df44-360e-431c-9fdf-c1baaa92d558",
   "metadata": {},
   "source": [
    "## Neural Network"
   ]
  },
  {
   "cell_type": "code",
   "execution_count": 11,
   "id": "2e23cdf4-4a47-4b9b-b6b3-8a32f0c6c7c0",
   "metadata": {},
   "outputs": [
    {
     "name": "stdout",
     "output_type": "stream",
     "text": [
      "0.1846522568122223\n",
      "0.18008568828014604\n",
      "0.17407571343180503\n"
     ]
    }
   ],
   "source": [
    "# 3 layers, 16 nodes per layer\n",
    "mlp = MLPRegressor(hidden_layer_sizes=(16,16,16,))\n",
    "mlp.fit(X_train, y_train)\n",
    "y_train_pred = mlp.predict(X_train)\n",
    "y_val_pred = mlp.predict(X_val)\n",
    "y_test_pred = mlp.predict(X_test)\n",
    "\n",
    "print(mean_squared_error(y_train, y_train_pred))\n",
    "print(mean_squared_error(y_val, y_val_pred))\n",
    "print(mean_squared_error(y_test, y_test_pred))"
   ]
  },
  {
   "cell_type": "markdown",
   "id": "27a7f714-ef1e-4162-80a7-54c856212c3d",
   "metadata": {},
   "source": [
    "## Neural Network Table"
   ]
  },
  {
   "cell_type": "code",
   "execution_count": 12,
   "id": "6668039a-3dcf-4d1e-a3e0-1dd9f44a1570",
   "metadata": {},
   "outputs": [],
   "source": [
    "nodes = [(1,), \n",
    "        (16,), \n",
    "        (1,16,), \n",
    "        (16,16,), \n",
    "        (16,4,16,), \n",
    "        (16,16,16,), \n",
    "        (16,16,16,16,), \n",
    "        (16,32,64,128),\n",
    "        (1,1,1,1,1),\n",
    "        (100,100,100,100,100)]\n",
    "\n",
    "train_error = []\n",
    "valid_error = []\n",
    "test_error = []\n",
    "\n",
    "for i in nodes:\n",
    "    mlp = MLPRegressor(i)\n",
    "    mlp.fit(X_train, y_train)\n",
    "    \n",
    "    y_train_pred = mlp.predict(X_train)\n",
    "    y_val_pred = mlp.predict(X_val)\n",
    "    y_test_pred = mlp.predict(X_test)\n",
    "    \n",
    "    train_err = mean_squared_error(y_train, y_train_pred)\n",
    "    valid_err = mean_squared_error(y_val, y_val_pred)\n",
    "    test_err = mean_squared_error(y_test, y_test_pred)\n",
    "    \n",
    "    train_error.append(train_err)\n",
    "    valid_error.append(valid_err)\n",
    "    test_error.append(test_err)\n",
    "\n",
    "parameter = {'nodes':nodes,\n",
    "             'train error':train_error,\n",
    "             'validation error':valid_error,\n",
    "             'test error':test_error}"
   ]
  },
  {
   "cell_type": "code",
   "execution_count": 13,
   "id": "31bd60c2-0c4c-4b07-96ea-294ef29483b9",
   "metadata": {},
   "outputs": [
    {
     "data": {
      "text/html": [
       "<div>\n",
       "<style scoped>\n",
       "    .dataframe tbody tr th:only-of-type {\n",
       "        vertical-align: middle;\n",
       "    }\n",
       "\n",
       "    .dataframe tbody tr th {\n",
       "        vertical-align: top;\n",
       "    }\n",
       "\n",
       "    .dataframe thead th {\n",
       "        text-align: right;\n",
       "    }\n",
       "</style>\n",
       "<table border=\"1\" class=\"dataframe\">\n",
       "  <thead>\n",
       "    <tr style=\"text-align: right;\">\n",
       "      <th></th>\n",
       "      <th>nodes</th>\n",
       "      <th>train error</th>\n",
       "      <th>validation error</th>\n",
       "      <th>test error</th>\n",
       "    </tr>\n",
       "  </thead>\n",
       "  <tbody>\n",
       "    <tr>\n",
       "      <th>0</th>\n",
       "      <td>(1,)</td>\n",
       "      <td>0.281110</td>\n",
       "      <td>0.275831</td>\n",
       "      <td>0.251345</td>\n",
       "    </tr>\n",
       "    <tr>\n",
       "      <th>1</th>\n",
       "      <td>(16,)</td>\n",
       "      <td>0.206435</td>\n",
       "      <td>0.197711</td>\n",
       "      <td>0.191833</td>\n",
       "    </tr>\n",
       "    <tr>\n",
       "      <th>2</th>\n",
       "      <td>(1, 16)</td>\n",
       "      <td>0.281100</td>\n",
       "      <td>0.275786</td>\n",
       "      <td>0.251403</td>\n",
       "    </tr>\n",
       "    <tr>\n",
       "      <th>3</th>\n",
       "      <td>(16, 16)</td>\n",
       "      <td>0.204728</td>\n",
       "      <td>0.196756</td>\n",
       "      <td>0.190067</td>\n",
       "    </tr>\n",
       "    <tr>\n",
       "      <th>4</th>\n",
       "      <td>(16, 4, 16)</td>\n",
       "      <td>0.197361</td>\n",
       "      <td>0.190345</td>\n",
       "      <td>0.184708</td>\n",
       "    </tr>\n",
       "    <tr>\n",
       "      <th>5</th>\n",
       "      <td>(16, 16, 16)</td>\n",
       "      <td>0.192288</td>\n",
       "      <td>0.184293</td>\n",
       "      <td>0.177731</td>\n",
       "    </tr>\n",
       "    <tr>\n",
       "      <th>6</th>\n",
       "      <td>(16, 16, 16, 16)</td>\n",
       "      <td>0.188198</td>\n",
       "      <td>0.181628</td>\n",
       "      <td>0.174021</td>\n",
       "    </tr>\n",
       "    <tr>\n",
       "      <th>7</th>\n",
       "      <td>(16, 32, 64, 128)</td>\n",
       "      <td>0.181742</td>\n",
       "      <td>0.174708</td>\n",
       "      <td>0.169230</td>\n",
       "    </tr>\n",
       "    <tr>\n",
       "      <th>8</th>\n",
       "      <td>(1, 1, 1, 1, 1)</td>\n",
       "      <td>0.281101</td>\n",
       "      <td>0.275792</td>\n",
       "      <td>0.251392</td>\n",
       "    </tr>\n",
       "    <tr>\n",
       "      <th>9</th>\n",
       "      <td>(100, 100, 100, 100, 100)</td>\n",
       "      <td>0.168611</td>\n",
       "      <td>0.164094</td>\n",
       "      <td>0.161024</td>\n",
       "    </tr>\n",
       "  </tbody>\n",
       "</table>\n",
       "</div>"
      ],
      "text/plain": [
       "                       nodes  train error  validation error  test error\n",
       "0                       (1,)     0.281110          0.275831    0.251345\n",
       "1                      (16,)     0.206435          0.197711    0.191833\n",
       "2                    (1, 16)     0.281100          0.275786    0.251403\n",
       "3                   (16, 16)     0.204728          0.196756    0.190067\n",
       "4                (16, 4, 16)     0.197361          0.190345    0.184708\n",
       "5               (16, 16, 16)     0.192288          0.184293    0.177731\n",
       "6           (16, 16, 16, 16)     0.188198          0.181628    0.174021\n",
       "7          (16, 32, 64, 128)     0.181742          0.174708    0.169230\n",
       "8            (1, 1, 1, 1, 1)     0.281101          0.275792    0.251392\n",
       "9  (100, 100, 100, 100, 100)     0.168611          0.164094    0.161024"
      ]
     },
     "execution_count": 13,
     "metadata": {},
     "output_type": "execute_result"
    }
   ],
   "source": [
    "mlp_df = pd.DataFrame(parameter)\n",
    "mlp_df"
   ]
  },
  {
   "cell_type": "markdown",
   "id": "06b616b7-cf40-4ab3-ada1-11b29a927785",
   "metadata": {},
   "source": [
    "## Neural Network with Activation: 'Logistic'"
   ]
  },
  {
   "cell_type": "code",
   "execution_count": 14,
   "id": "39e6181f-9615-4964-9c04-28c8c162f02a",
   "metadata": {},
   "outputs": [],
   "source": [
    "nodes = [(1,), \n",
    "        (16,), \n",
    "        (1,16,), \n",
    "        (16,16,), \n",
    "        (16,4,16,), \n",
    "        (16,16,16,), \n",
    "        (16,16,16,16,), \n",
    "        (16,32,64,128),\n",
    "        (1,1,1,1,1),\n",
    "        (100,100,100,100,100)]\n",
    "\n",
    "train_error = []\n",
    "valid_error = []\n",
    "test_error = []\n",
    "\n",
    "for i in nodes:\n",
    "    mlp = MLPRegressor(i, activation='logistic')\n",
    "    mlp.fit(X_train, y_train)\n",
    "    \n",
    "    y_train_pred = mlp.predict(X_train)\n",
    "    y_val_pred = mlp.predict(X_val)\n",
    "    y_test_pred = mlp.predict(X_test)\n",
    "    \n",
    "    train_err = mean_squared_error(y_train, y_train_pred)\n",
    "    valid_err = mean_squared_error(y_val, y_val_pred)\n",
    "    test_err = mean_squared_error(y_test, y_test_pred)\n",
    "    \n",
    "    train_error.append(train_err)\n",
    "    valid_error.append(valid_err)\n",
    "    test_error.append(test_err)\n",
    "\n",
    "parameter = {'nodes':nodes,\n",
    "             'train error':train_error,\n",
    "             'validation error':valid_error,\n",
    "             'test error':test_error}"
   ]
  },
  {
   "cell_type": "code",
   "execution_count": 15,
   "id": "db0bffcc-d8da-4351-9377-967dfdc809e7",
   "metadata": {},
   "outputs": [
    {
     "data": {
      "text/html": [
       "<div>\n",
       "<style scoped>\n",
       "    .dataframe tbody tr th:only-of-type {\n",
       "        vertical-align: middle;\n",
       "    }\n",
       "\n",
       "    .dataframe tbody tr th {\n",
       "        vertical-align: top;\n",
       "    }\n",
       "\n",
       "    .dataframe thead th {\n",
       "        text-align: right;\n",
       "    }\n",
       "</style>\n",
       "<table border=\"1\" class=\"dataframe\">\n",
       "  <thead>\n",
       "    <tr style=\"text-align: right;\">\n",
       "      <th></th>\n",
       "      <th>nodes</th>\n",
       "      <th>train error</th>\n",
       "      <th>validation error</th>\n",
       "      <th>test error</th>\n",
       "    </tr>\n",
       "  </thead>\n",
       "  <tbody>\n",
       "    <tr>\n",
       "      <th>0</th>\n",
       "      <td>(1,)</td>\n",
       "      <td>0.187810</td>\n",
       "      <td>0.181842</td>\n",
       "      <td>0.172897</td>\n",
       "    </tr>\n",
       "    <tr>\n",
       "      <th>1</th>\n",
       "      <td>(16,)</td>\n",
       "      <td>0.167941</td>\n",
       "      <td>0.165984</td>\n",
       "      <td>0.157416</td>\n",
       "    </tr>\n",
       "    <tr>\n",
       "      <th>2</th>\n",
       "      <td>(1, 16)</td>\n",
       "      <td>0.281136</td>\n",
       "      <td>0.275742</td>\n",
       "      <td>0.251590</td>\n",
       "    </tr>\n",
       "    <tr>\n",
       "      <th>3</th>\n",
       "      <td>(16, 16)</td>\n",
       "      <td>0.174084</td>\n",
       "      <td>0.171271</td>\n",
       "      <td>0.162996</td>\n",
       "    </tr>\n",
       "    <tr>\n",
       "      <th>4</th>\n",
       "      <td>(16, 4, 16)</td>\n",
       "      <td>0.166418</td>\n",
       "      <td>0.162904</td>\n",
       "      <td>0.154433</td>\n",
       "    </tr>\n",
       "    <tr>\n",
       "      <th>5</th>\n",
       "      <td>(16, 16, 16)</td>\n",
       "      <td>0.172077</td>\n",
       "      <td>0.170049</td>\n",
       "      <td>0.160948</td>\n",
       "    </tr>\n",
       "    <tr>\n",
       "      <th>6</th>\n",
       "      <td>(16, 16, 16, 16)</td>\n",
       "      <td>0.169891</td>\n",
       "      <td>0.166697</td>\n",
       "      <td>0.160188</td>\n",
       "    </tr>\n",
       "    <tr>\n",
       "      <th>7</th>\n",
       "      <td>(16, 32, 64, 128)</td>\n",
       "      <td>0.182216</td>\n",
       "      <td>0.178091</td>\n",
       "      <td>0.170225</td>\n",
       "    </tr>\n",
       "    <tr>\n",
       "      <th>8</th>\n",
       "      <td>(1, 1, 1, 1, 1)</td>\n",
       "      <td>0.280963</td>\n",
       "      <td>0.275657</td>\n",
       "      <td>0.251259</td>\n",
       "    </tr>\n",
       "    <tr>\n",
       "      <th>9</th>\n",
       "      <td>(100, 100, 100, 100, 100)</td>\n",
       "      <td>0.165482</td>\n",
       "      <td>0.161869</td>\n",
       "      <td>0.154383</td>\n",
       "    </tr>\n",
       "  </tbody>\n",
       "</table>\n",
       "</div>"
      ],
      "text/plain": [
       "                       nodes  train error  validation error  test error\n",
       "0                       (1,)     0.187810          0.181842    0.172897\n",
       "1                      (16,)     0.167941          0.165984    0.157416\n",
       "2                    (1, 16)     0.281136          0.275742    0.251590\n",
       "3                   (16, 16)     0.174084          0.171271    0.162996\n",
       "4                (16, 4, 16)     0.166418          0.162904    0.154433\n",
       "5               (16, 16, 16)     0.172077          0.170049    0.160948\n",
       "6           (16, 16, 16, 16)     0.169891          0.166697    0.160188\n",
       "7          (16, 32, 64, 128)     0.182216          0.178091    0.170225\n",
       "8            (1, 1, 1, 1, 1)     0.280963          0.275657    0.251259\n",
       "9  (100, 100, 100, 100, 100)     0.165482          0.161869    0.154383"
      ]
     },
     "execution_count": 15,
     "metadata": {},
     "output_type": "execute_result"
    }
   ],
   "source": [
    "mlp_log_df = pd.DataFrame(parameter)\n",
    "mlp_log_df"
   ]
  },
  {
   "cell_type": "code",
   "execution_count": null,
   "id": "3905f3fb-b7cd-4ee5-92a8-cb46951ec926",
   "metadata": {},
   "outputs": [],
   "source": []
  }
 ],
 "metadata": {
  "kernelspec": {
   "display_name": "Python 3 (ipykernel)",
   "language": "python",
   "name": "python3"
  },
  "language_info": {
   "codemirror_mode": {
    "name": "ipython",
    "version": 3
   },
   "file_extension": ".py",
   "mimetype": "text/x-python",
   "name": "python",
   "nbconvert_exporter": "python",
   "pygments_lexer": "ipython3",
   "version": "3.12.0"
  }
 },
 "nbformat": 4,
 "nbformat_minor": 5
}
