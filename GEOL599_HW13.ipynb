{
 "cells": [
  {
   "cell_type": "code",
   "execution_count": 9,
   "id": "5cbe558e-be3b-4064-99c2-8d44efbec964",
   "metadata": {},
   "outputs": [],
   "source": [
    "import pandas as pd\n",
    "import numpy as np\n",
    "from matplotlib import pyplot as plt\n",
    "import seaborn as sns\n",
    "from sklearn.linear_model import LinearRegression\n",
    "from sklearn.neural_network import MLPRegressor\n",
    "from sklearn.metrics import mean_squared_error\n",
    "from sklearn.model_selection import train_test_split"
   ]
  },
  {
   "cell_type": "markdown",
   "id": "55b8c64b-e85b-428c-8a2c-2e92e1a758ec",
   "metadata": {},
   "source": [
    "## Questions and Answers\n",
    "1. The neural network regression model performed better than the baseline linear regression model, but the difference was relatively small (MSE decreased by ~0.01).\n",
    "2. The cost function is \"adam\", or the squared error using stochastic gradient descent.\n",
    "3. See table under Neural Network Table.\n",
    "4. From the table, I can conclude that \"shallower\" neural network can perform as well as some deeper neural networks as the errors for single hidden layer neutral networks were similar to neural networks with 5 layers. Additionally, increasing the number of layers does not always improve predictive skills (ex: 5 layers but only 1 node per layer) but increasing number of nodes per layer does improve preditive skills (ex: 5 layers but 16 nodes per layer).\n",
    "5. When I changed the activation function from 'relu' to 'logistics', the mean squared error decreased for almost all options of nodes but for (1), (1,16), (1,1,1,1,1), the mean squared error increased."
   ]
  },
  {
   "cell_type": "code",
   "execution_count": 2,
   "id": "ce10e8d0-bf95-460d-8b73-51fd1244fcca",
   "metadata": {},
   "outputs": [
    {
     "name": "stderr",
     "output_type": "stream",
     "text": [
      "<>:1: SyntaxWarning: invalid escape sequence '\\s'\n",
      "<>:1: SyntaxWarning: invalid escape sequence '\\s'\n",
      "C:\\Users\\Thaomy\\AppData\\Local\\Temp\\ipykernel_7340\\3125395425.py:1: SyntaxWarning: invalid escape sequence '\\s'\n",
      "  df = pd.read_csv('Waves_2023.txt', sep='\\s+')\n"
     ]
    }
   ],
   "source": [
    "df = pd.read_csv('Waves_2023.txt', sep='\\s+') "
   ]
  },
  {
   "cell_type": "code",
   "execution_count": 5,
   "id": "d98a527a-31db-480f-a5ce-0eda5cee36e7",
   "metadata": {},
   "outputs": [
    {
     "name": "stdout",
     "output_type": "stream",
     "text": [
      "[[ 12.5    7.69 269.    15.3 ]\n",
      " [ 11.76   7.34 272.    15.3 ]\n",
      " [ 12.5    7.08 268.    15.3 ]\n",
      " ...\n",
      " [ 13.33  10.5  268.    16.8 ]\n",
      " [ 14.29  10.32 271.    16.8 ]\n",
      " [ 12.5   10.54 271.    16.9 ]]\n",
      "[1.12 1.16 1.2  ... 1.79 1.66 1.7 ]\n"
     ]
    }
   ],
   "source": [
    "df1 = df[['WVHT', 'DPD', 'APD', 'MWD', 'WTMP']]\n",
    "df1 = df1[(df1.WVHT < 99) | (df1.DPD < 99) | (df1.APD < 99) | (df1.MWD < 990)]\n",
    "\n",
    "Xvar = df1[['DPD','APD','MWD','WTMP']].to_numpy()\n",
    "yvar = np.array(df1['WVHT'])\n",
    "\n",
    "print(Xvar)\n",
    "print(yvar)"
   ]
  },
  {
   "cell_type": "code",
   "execution_count": 6,
   "id": "f0d54981-79eb-490c-aafd-ebeb65f88909",
   "metadata": {},
   "outputs": [],
   "source": [
    "# I want 75% train, 10% test, 15% validate\n",
    "X, X_test, y, y_test = train_test_split(Xvar, yvar, test_size=0.10)\n",
    "X_train, X_val, y_train, y_val = train_test_split(X, y, test_size=0.167)"
   ]
  },
  {
   "cell_type": "markdown",
   "id": "cba85df7-972f-475a-84fc-ed354dfcc5af",
   "metadata": {},
   "source": [
    "## Baseline: Linear Model"
   ]
  },
  {
   "cell_type": "code",
   "execution_count": 8,
   "id": "20a4f9c5-0db6-48a6-8116-da74ad259a1c",
   "metadata": {},
   "outputs": [
    {
     "name": "stdout",
     "output_type": "stream",
     "text": [
      "0.19821913148311102\n",
      "0.19187794204327813\n",
      "0.18237403438330343\n"
     ]
    }
   ],
   "source": [
    "linear = LinearRegression()\n",
    "linear.fit(X_train, y_train)\n",
    "y_train_pred = linear.predict(X_train)\n",
    "y_val_pred = linear.predict(X_val)\n",
    "y_test_pred = linear.predict(X_test)\n",
    "\n",
    "print(mean_squared_error(y_train, y_train_pred))\n",
    "print(mean_squared_error(y_val, y_val_pred))\n",
    "print(mean_squared_error(y_test, y_test_pred))"
   ]
  },
  {
   "cell_type": "markdown",
   "id": "b6a8df44-360e-431c-9fdf-c1baaa92d558",
   "metadata": {},
   "source": [
    "## Neural Network"
   ]
  },
  {
   "cell_type": "code",
   "execution_count": 11,
   "id": "2e23cdf4-4a47-4b9b-b6b3-8a32f0c6c7c0",
   "metadata": {},
   "outputs": [
    {
     "name": "stdout",
     "output_type": "stream",
     "text": [
      "0.1846522568122223\n",
      "0.18008568828014604\n",
      "0.17407571343180503\n"
     ]
    }
   ],
   "source": [
    "# 3 layers, 16 nodes per layer\n",
    "mlp = MLPRegressor(hidden_layer_sizes=(16,16,16,))\n",
    "mlp.fit(X_train, y_train)\n",
    "y_train_pred = mlp.predict(X_train)\n",
    "y_val_pred = mlp.predict(X_val)\n",
    "y_test_pred = mlp.predict(X_test)\n",
    "\n",
    "print(mean_squared_error(y_train, y_train_pred))\n",
    "print(mean_squared_error(y_val, y_val_pred))\n",
    "print(mean_squared_error(y_test, y_test_pred))"
   ]
  },
  {
   "cell_type": "markdown",
   "id": "27a7f714-ef1e-4162-80a7-54c856212c3d",
   "metadata": {},
   "source": [
    "## Neural Network Table"
   ]
  },
  {
   "cell_type": "code",
   "execution_count": 16,
   "id": "6668039a-3dcf-4d1e-a3e0-1dd9f44a1570",
   "metadata": {},
   "outputs": [],
   "source": [
    "nodes = [(1,), \n",
    "        (16,), \n",
    "        (1,16,), \n",
    "        (16,16,), \n",
    "        (16,4,16,), \n",
    "        (16,16,16,), \n",
    "        (16,16,16,16,), \n",
    "        (16,32,64,128,),\n",
    "        (1,1,1,1,1,),\n",
    "        (100,100,100,100,100,)]\n",
    "\n",
    "train_error = []\n",
    "valid_error = []\n",
    "test_error = []\n",
    "\n",
    "for i in nodes:\n",
    "    mlp = MLPRegressor(i)\n",
    "    mlp.fit(X_train, y_train)\n",
    "    \n",
    "    y_train_pred = mlp.predict(X_train)\n",
    "    y_val_pred = mlp.predict(X_val)\n",
    "    y_test_pred = mlp.predict(X_test)\n",
    "    \n",
    "    train_err = mean_squared_error(y_train, y_train_pred)\n",
    "    valid_err = mean_squared_error(y_val, y_val_pred)\n",
    "    test_err = mean_squared_error(y_test, y_test_pred)\n",
    "    \n",
    "    train_error.append(train_err)\n",
    "    valid_error.append(valid_err)\n",
    "    test_error.append(test_err)\n",
    "\n",
    "parameter = {'nodes':nodes,\n",
    "             'train error':train_error,\n",
    "             'validation error':valid_error,\n",
    "             'test error':test_error}"
   ]
  },
  {
   "cell_type": "code",
   "execution_count": 17,
   "id": "31bd60c2-0c4c-4b07-96ea-294ef29483b9",
   "metadata": {},
   "outputs": [
    {
     "data": {
      "text/html": [
       "<div>\n",
       "<style scoped>\n",
       "    .dataframe tbody tr th:only-of-type {\n",
       "        vertical-align: middle;\n",
       "    }\n",
       "\n",
       "    .dataframe tbody tr th {\n",
       "        vertical-align: top;\n",
       "    }\n",
       "\n",
       "    .dataframe thead th {\n",
       "        text-align: right;\n",
       "    }\n",
       "</style>\n",
       "<table border=\"1\" class=\"dataframe\">\n",
       "  <thead>\n",
       "    <tr style=\"text-align: right;\">\n",
       "      <th></th>\n",
       "      <th>nodes</th>\n",
       "      <th>train error</th>\n",
       "      <th>validation error</th>\n",
       "      <th>test error</th>\n",
       "    </tr>\n",
       "  </thead>\n",
       "  <tbody>\n",
       "    <tr>\n",
       "      <th>0</th>\n",
       "      <td>(1,)</td>\n",
       "      <td>0.199134</td>\n",
       "      <td>0.192134</td>\n",
       "      <td>0.183058</td>\n",
       "    </tr>\n",
       "    <tr>\n",
       "      <th>1</th>\n",
       "      <td>(16,)</td>\n",
       "      <td>0.200608</td>\n",
       "      <td>0.193767</td>\n",
       "      <td>0.183658</td>\n",
       "    </tr>\n",
       "    <tr>\n",
       "      <th>2</th>\n",
       "      <td>(1, 16)</td>\n",
       "      <td>0.272363</td>\n",
       "      <td>0.267042</td>\n",
       "      <td>0.242965</td>\n",
       "    </tr>\n",
       "    <tr>\n",
       "      <th>3</th>\n",
       "      <td>(16, 16)</td>\n",
       "      <td>0.188399</td>\n",
       "      <td>0.182058</td>\n",
       "      <td>0.172183</td>\n",
       "    </tr>\n",
       "    <tr>\n",
       "      <th>4</th>\n",
       "      <td>(16, 4, 16)</td>\n",
       "      <td>0.281110</td>\n",
       "      <td>0.275752</td>\n",
       "      <td>0.251494</td>\n",
       "    </tr>\n",
       "    <tr>\n",
       "      <th>5</th>\n",
       "      <td>(16, 16, 16)</td>\n",
       "      <td>0.207450</td>\n",
       "      <td>0.200777</td>\n",
       "      <td>0.197576</td>\n",
       "    </tr>\n",
       "    <tr>\n",
       "      <th>6</th>\n",
       "      <td>(16, 16, 16, 16)</td>\n",
       "      <td>0.199892</td>\n",
       "      <td>0.193550</td>\n",
       "      <td>0.185355</td>\n",
       "    </tr>\n",
       "    <tr>\n",
       "      <th>7</th>\n",
       "      <td>(16, 32, 64, 128)</td>\n",
       "      <td>0.196994</td>\n",
       "      <td>0.190627</td>\n",
       "      <td>0.184314</td>\n",
       "    </tr>\n",
       "    <tr>\n",
       "      <th>8</th>\n",
       "      <td>(1, 1, 1, 1, 1)</td>\n",
       "      <td>0.281105</td>\n",
       "      <td>0.275817</td>\n",
       "      <td>0.251360</td>\n",
       "    </tr>\n",
       "    <tr>\n",
       "      <th>9</th>\n",
       "      <td>(100, 100, 100, 100, 100)</td>\n",
       "      <td>0.185168</td>\n",
       "      <td>0.178933</td>\n",
       "      <td>0.170727</td>\n",
       "    </tr>\n",
       "  </tbody>\n",
       "</table>\n",
       "</div>"
      ],
      "text/plain": [
       "                       nodes  train error  validation error  test error\n",
       "0                       (1,)     0.199134          0.192134    0.183058\n",
       "1                      (16,)     0.200608          0.193767    0.183658\n",
       "2                    (1, 16)     0.272363          0.267042    0.242965\n",
       "3                   (16, 16)     0.188399          0.182058    0.172183\n",
       "4                (16, 4, 16)     0.281110          0.275752    0.251494\n",
       "5               (16, 16, 16)     0.207450          0.200777    0.197576\n",
       "6           (16, 16, 16, 16)     0.199892          0.193550    0.185355\n",
       "7          (16, 32, 64, 128)     0.196994          0.190627    0.184314\n",
       "8            (1, 1, 1, 1, 1)     0.281105          0.275817    0.251360\n",
       "9  (100, 100, 100, 100, 100)     0.185168          0.178933    0.170727"
      ]
     },
     "execution_count": 17,
     "metadata": {},
     "output_type": "execute_result"
    }
   ],
   "source": [
    "mlp_df = pd.DataFrame(parameter)\n",
    "mlp_df"
   ]
  },
  {
   "cell_type": "markdown",
   "id": "06b616b7-cf40-4ab3-ada1-11b29a927785",
   "metadata": {},
   "source": [
    "## Neural Network with Activation: 'Logistic'"
   ]
  },
  {
   "cell_type": "code",
   "execution_count": 18,
   "id": "39e6181f-9615-4964-9c04-28c8c162f02a",
   "metadata": {},
   "outputs": [],
   "source": [
    "nodes = [(1,), \n",
    "        (16,), \n",
    "        (1,16,), \n",
    "        (16,16,), \n",
    "        (16,4,16,), \n",
    "        (16,16,16,), \n",
    "        (16,16,16,16,), \n",
    "        (16,32,64,128,),\n",
    "        (1,1,1,1,1,),\n",
    "        (100,100,100,100,100,)]\n",
    "\n",
    "train_error = []\n",
    "valid_error = []\n",
    "test_error = []\n",
    "\n",
    "for i in nodes:\n",
    "    mlp = MLPRegressor(i, activation='logistic')\n",
    "    mlp.fit(X_train, y_train)\n",
    "    \n",
    "    y_train_pred = mlp.predict(X_train)\n",
    "    y_val_pred = mlp.predict(X_val)\n",
    "    y_test_pred = mlp.predict(X_test)\n",
    "    \n",
    "    train_err = mean_squared_error(y_train, y_train_pred)\n",
    "    valid_err = mean_squared_error(y_val, y_val_pred)\n",
    "    test_err = mean_squared_error(y_test, y_test_pred)\n",
    "    \n",
    "    train_error.append(train_err)\n",
    "    valid_error.append(valid_err)\n",
    "    test_error.append(test_err)\n",
    "\n",
    "parameter = {'nodes':nodes,\n",
    "             'train error':train_error,\n",
    "             'validation error':valid_error,\n",
    "             'test error':test_error}"
   ]
  },
  {
   "cell_type": "code",
   "execution_count": 20,
   "id": "db0bffcc-d8da-4351-9377-967dfdc809e7",
   "metadata": {},
   "outputs": [
    {
     "data": {
      "text/html": [
       "<div>\n",
       "<style scoped>\n",
       "    .dataframe tbody tr th:only-of-type {\n",
       "        vertical-align: middle;\n",
       "    }\n",
       "\n",
       "    .dataframe tbody tr th {\n",
       "        vertical-align: top;\n",
       "    }\n",
       "\n",
       "    .dataframe thead th {\n",
       "        text-align: right;\n",
       "    }\n",
       "</style>\n",
       "<table border=\"1\" class=\"dataframe\">\n",
       "  <thead>\n",
       "    <tr style=\"text-align: right;\">\n",
       "      <th></th>\n",
       "      <th>nodes</th>\n",
       "      <th>train error</th>\n",
       "      <th>validation error</th>\n",
       "      <th>test error</th>\n",
       "    </tr>\n",
       "  </thead>\n",
       "  <tbody>\n",
       "    <tr>\n",
       "      <th>0</th>\n",
       "      <td>(1,)</td>\n",
       "      <td>0.281166</td>\n",
       "      <td>0.275822</td>\n",
       "      <td>0.251428</td>\n",
       "    </tr>\n",
       "    <tr>\n",
       "      <th>1</th>\n",
       "      <td>(16,)</td>\n",
       "      <td>0.176608</td>\n",
       "      <td>0.174096</td>\n",
       "      <td>0.166459</td>\n",
       "    </tr>\n",
       "    <tr>\n",
       "      <th>2</th>\n",
       "      <td>(1, 16)</td>\n",
       "      <td>0.281354</td>\n",
       "      <td>0.276248</td>\n",
       "      <td>0.251285</td>\n",
       "    </tr>\n",
       "    <tr>\n",
       "      <th>3</th>\n",
       "      <td>(16, 16)</td>\n",
       "      <td>0.170577</td>\n",
       "      <td>0.168337</td>\n",
       "      <td>0.159871</td>\n",
       "    </tr>\n",
       "    <tr>\n",
       "      <th>4</th>\n",
       "      <td>(16, 4, 16)</td>\n",
       "      <td>0.166736</td>\n",
       "      <td>0.163710</td>\n",
       "      <td>0.155672</td>\n",
       "    </tr>\n",
       "    <tr>\n",
       "      <th>5</th>\n",
       "      <td>(16, 16, 16)</td>\n",
       "      <td>0.179082</td>\n",
       "      <td>0.175142</td>\n",
       "      <td>0.166996</td>\n",
       "    </tr>\n",
       "    <tr>\n",
       "      <th>6</th>\n",
       "      <td>(16, 16, 16, 16)</td>\n",
       "      <td>0.167075</td>\n",
       "      <td>0.164143</td>\n",
       "      <td>0.155553</td>\n",
       "    </tr>\n",
       "    <tr>\n",
       "      <th>7</th>\n",
       "      <td>(16, 32, 64, 128)</td>\n",
       "      <td>0.179502</td>\n",
       "      <td>0.175213</td>\n",
       "      <td>0.166881</td>\n",
       "    </tr>\n",
       "    <tr>\n",
       "      <th>8</th>\n",
       "      <td>(1, 1, 1, 1, 1)</td>\n",
       "      <td>0.281109</td>\n",
       "      <td>0.275753</td>\n",
       "      <td>0.251491</td>\n",
       "    </tr>\n",
       "    <tr>\n",
       "      <th>9</th>\n",
       "      <td>(100, 100, 100, 100, 100)</td>\n",
       "      <td>0.172264</td>\n",
       "      <td>0.168129</td>\n",
       "      <td>0.162589</td>\n",
       "    </tr>\n",
       "  </tbody>\n",
       "</table>\n",
       "</div>"
      ],
      "text/plain": [
       "                       nodes  train error  validation error  test error\n",
       "0                       (1,)     0.281166          0.275822    0.251428\n",
       "1                      (16,)     0.176608          0.174096    0.166459\n",
       "2                    (1, 16)     0.281354          0.276248    0.251285\n",
       "3                   (16, 16)     0.170577          0.168337    0.159871\n",
       "4                (16, 4, 16)     0.166736          0.163710    0.155672\n",
       "5               (16, 16, 16)     0.179082          0.175142    0.166996\n",
       "6           (16, 16, 16, 16)     0.167075          0.164143    0.155553\n",
       "7          (16, 32, 64, 128)     0.179502          0.175213    0.166881\n",
       "8            (1, 1, 1, 1, 1)     0.281109          0.275753    0.251491\n",
       "9  (100, 100, 100, 100, 100)     0.172264          0.168129    0.162589"
      ]
     },
     "execution_count": 20,
     "metadata": {},
     "output_type": "execute_result"
    }
   ],
   "source": [
    "mlp_log_df = pd.DataFrame(parameter)\n",
    "mlp_log_df"
   ]
  },
  {
   "cell_type": "code",
   "execution_count": null,
   "id": "3905f3fb-b7cd-4ee5-92a8-cb46951ec926",
   "metadata": {},
   "outputs": [],
   "source": []
  }
 ],
 "metadata": {
  "kernelspec": {
   "display_name": "Python 3 (ipykernel)",
   "language": "python",
   "name": "python3"
  },
  "language_info": {
   "codemirror_mode": {
    "name": "ipython",
    "version": 3
   },
   "file_extension": ".py",
   "mimetype": "text/x-python",
   "name": "python",
   "nbconvert_exporter": "python",
   "pygments_lexer": "ipython3",
   "version": "3.12.0"
  }
 },
 "nbformat": 4,
 "nbformat_minor": 5
}
