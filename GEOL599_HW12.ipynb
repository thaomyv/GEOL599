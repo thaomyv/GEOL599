{
 "cells": [
  {
   "cell_type": "code",
   "execution_count": 1,
   "id": "7d4e6f40-5327-4ce0-b321-e81a6b46b6e4",
   "metadata": {},
   "outputs": [
    {
     "name": "stderr",
     "output_type": "stream",
     "text": [
      "C:\\Users\\Thaomy\\AppData\\Local\\Temp\\ipykernel_15552\\1858675051.py:1: DeprecationWarning: \n",
      "Pyarrow will become a required dependency of pandas in the next major release of pandas (pandas 3.0),\n",
      "(to allow more performant data types, such as the Arrow string type, and better interoperability with other libraries)\n",
      "but was not found to be installed on your system.\n",
      "If this would cause problems for you,\n",
      "please provide us feedback at https://github.com/pandas-dev/pandas/issues/54466\n",
      "        \n",
      "  import pandas as pd\n"
     ]
    }
   ],
   "source": [
    "import pandas as pd\n",
    "import numpy as np\n",
    "from matplotlib import pyplot as plt\n",
    "import seaborn as sns\n",
    "from sklearn.decomposition import PCA\n",
    "from sklearn.cluster import KMeans"
   ]
  },
  {
   "cell_type": "markdown",
   "id": "ae6c49ec-73ce-4d53-b3e1-681cca6bf86b",
   "metadata": {},
   "source": [
    "## Questions and Answers\n",
    "1.  see Plot PCA\n",
    "2.  see Choosing Number of Clusters\n",
    "3.  I chose 2 clusters as the right number of clusters because 2 was the \"elbow\" of the elbow plot. Sum of squared distances dropped off dramatically from 1 to 2 and from 2 onwards, the change of SSD wasn't too big or significant.\n",
    "4.  see Plotting PCA + KMeans Cluster Centers\n",
    "5.  Yes, this clustering does make sense visually as one cluster is the skinny long cluster to the left and the other cluster is probably the more broad cluster to the right. eyes?"
   ]
  },
  {
   "cell_type": "markdown",
   "id": "d6ae9b24-0ffe-4a24-941c-0f49ddd170d7",
   "metadata": {},
   "source": [
    "## Load Data"
   ]
  },
  {
   "cell_type": "code",
   "execution_count": 2,
   "id": "2bacaeb7-7338-444b-9c82-1ce0c0eb9fd4",
   "metadata": {},
   "outputs": [
    {
     "name": "stderr",
     "output_type": "stream",
     "text": [
      "<>:1: SyntaxWarning: invalid escape sequence '\\s'\n",
      "<>:1: SyntaxWarning: invalid escape sequence '\\s'\n",
      "C:\\Users\\Thaomy\\AppData\\Local\\Temp\\ipykernel_15552\\1307068610.py:1: SyntaxWarning: invalid escape sequence '\\s'\n",
      "  df = pd.read_csv('Waves_2023.txt', sep='\\s+')\n"
     ]
    },
    {
     "data": {
      "text/html": [
       "<div>\n",
       "<style scoped>\n",
       "    .dataframe tbody tr th:only-of-type {\n",
       "        vertical-align: middle;\n",
       "    }\n",
       "\n",
       "    .dataframe tbody tr th {\n",
       "        vertical-align: top;\n",
       "    }\n",
       "\n",
       "    .dataframe thead th {\n",
       "        text-align: right;\n",
       "    }\n",
       "</style>\n",
       "<table border=\"1\" class=\"dataframe\">\n",
       "  <thead>\n",
       "    <tr style=\"text-align: right;\">\n",
       "      <th></th>\n",
       "      <th>YY</th>\n",
       "      <th>MM</th>\n",
       "      <th>DD</th>\n",
       "      <th>hh</th>\n",
       "      <th>mm</th>\n",
       "      <th>WDIR</th>\n",
       "      <th>WSPD</th>\n",
       "      <th>GST</th>\n",
       "      <th>WVHT</th>\n",
       "      <th>DPD</th>\n",
       "      <th>APD</th>\n",
       "      <th>MWD</th>\n",
       "      <th>PRES</th>\n",
       "      <th>ATMP</th>\n",
       "      <th>WTMP</th>\n",
       "      <th>DEWP</th>\n",
       "      <th>VIS</th>\n",
       "      <th>TIDE</th>\n",
       "    </tr>\n",
       "  </thead>\n",
       "  <tbody>\n",
       "    <tr>\n",
       "      <th>0</th>\n",
       "      <td>2023</td>\n",
       "      <td>1</td>\n",
       "      <td>1</td>\n",
       "      <td>0</td>\n",
       "      <td>26</td>\n",
       "      <td>999</td>\n",
       "      <td>99.0</td>\n",
       "      <td>99.0</td>\n",
       "      <td>1.12</td>\n",
       "      <td>12.50</td>\n",
       "      <td>7.69</td>\n",
       "      <td>269</td>\n",
       "      <td>9999.0</td>\n",
       "      <td>999.0</td>\n",
       "      <td>15.3</td>\n",
       "      <td>999.0</td>\n",
       "      <td>99.0</td>\n",
       "      <td>99.0</td>\n",
       "    </tr>\n",
       "    <tr>\n",
       "      <th>1</th>\n",
       "      <td>2023</td>\n",
       "      <td>1</td>\n",
       "      <td>1</td>\n",
       "      <td>0</td>\n",
       "      <td>56</td>\n",
       "      <td>999</td>\n",
       "      <td>99.0</td>\n",
       "      <td>99.0</td>\n",
       "      <td>1.16</td>\n",
       "      <td>11.76</td>\n",
       "      <td>7.34</td>\n",
       "      <td>272</td>\n",
       "      <td>9999.0</td>\n",
       "      <td>999.0</td>\n",
       "      <td>15.3</td>\n",
       "      <td>999.0</td>\n",
       "      <td>99.0</td>\n",
       "      <td>99.0</td>\n",
       "    </tr>\n",
       "    <tr>\n",
       "      <th>2</th>\n",
       "      <td>2023</td>\n",
       "      <td>1</td>\n",
       "      <td>1</td>\n",
       "      <td>1</td>\n",
       "      <td>26</td>\n",
       "      <td>999</td>\n",
       "      <td>99.0</td>\n",
       "      <td>99.0</td>\n",
       "      <td>1.20</td>\n",
       "      <td>12.50</td>\n",
       "      <td>7.08</td>\n",
       "      <td>268</td>\n",
       "      <td>9999.0</td>\n",
       "      <td>999.0</td>\n",
       "      <td>15.3</td>\n",
       "      <td>999.0</td>\n",
       "      <td>99.0</td>\n",
       "      <td>99.0</td>\n",
       "    </tr>\n",
       "    <tr>\n",
       "      <th>3</th>\n",
       "      <td>2023</td>\n",
       "      <td>1</td>\n",
       "      <td>1</td>\n",
       "      <td>1</td>\n",
       "      <td>56</td>\n",
       "      <td>999</td>\n",
       "      <td>99.0</td>\n",
       "      <td>99.0</td>\n",
       "      <td>1.25</td>\n",
       "      <td>10.53</td>\n",
       "      <td>7.33</td>\n",
       "      <td>268</td>\n",
       "      <td>9999.0</td>\n",
       "      <td>999.0</td>\n",
       "      <td>15.4</td>\n",
       "      <td>999.0</td>\n",
       "      <td>99.0</td>\n",
       "      <td>99.0</td>\n",
       "    </tr>\n",
       "    <tr>\n",
       "      <th>4</th>\n",
       "      <td>2023</td>\n",
       "      <td>1</td>\n",
       "      <td>1</td>\n",
       "      <td>2</td>\n",
       "      <td>26</td>\n",
       "      <td>999</td>\n",
       "      <td>99.0</td>\n",
       "      <td>99.0</td>\n",
       "      <td>1.27</td>\n",
       "      <td>10.53</td>\n",
       "      <td>7.57</td>\n",
       "      <td>268</td>\n",
       "      <td>9999.0</td>\n",
       "      <td>999.0</td>\n",
       "      <td>15.5</td>\n",
       "      <td>999.0</td>\n",
       "      <td>99.0</td>\n",
       "      <td>99.0</td>\n",
       "    </tr>\n",
       "    <tr>\n",
       "      <th>...</th>\n",
       "      <td>...</td>\n",
       "      <td>...</td>\n",
       "      <td>...</td>\n",
       "      <td>...</td>\n",
       "      <td>...</td>\n",
       "      <td>...</td>\n",
       "      <td>...</td>\n",
       "      <td>...</td>\n",
       "      <td>...</td>\n",
       "      <td>...</td>\n",
       "      <td>...</td>\n",
       "      <td>...</td>\n",
       "      <td>...</td>\n",
       "      <td>...</td>\n",
       "      <td>...</td>\n",
       "      <td>...</td>\n",
       "      <td>...</td>\n",
       "      <td>...</td>\n",
       "    </tr>\n",
       "    <tr>\n",
       "      <th>17280</th>\n",
       "      <td>2023</td>\n",
       "      <td>12</td>\n",
       "      <td>31</td>\n",
       "      <td>21</td>\n",
       "      <td>56</td>\n",
       "      <td>999</td>\n",
       "      <td>99.0</td>\n",
       "      <td>99.0</td>\n",
       "      <td>2.01</td>\n",
       "      <td>14.29</td>\n",
       "      <td>11.19</td>\n",
       "      <td>270</td>\n",
       "      <td>9999.0</td>\n",
       "      <td>999.0</td>\n",
       "      <td>16.7</td>\n",
       "      <td>999.0</td>\n",
       "      <td>99.0</td>\n",
       "      <td>99.0</td>\n",
       "    </tr>\n",
       "    <tr>\n",
       "      <th>17281</th>\n",
       "      <td>2023</td>\n",
       "      <td>12</td>\n",
       "      <td>31</td>\n",
       "      <td>22</td>\n",
       "      <td>26</td>\n",
       "      <td>999</td>\n",
       "      <td>99.0</td>\n",
       "      <td>99.0</td>\n",
       "      <td>1.75</td>\n",
       "      <td>15.38</td>\n",
       "      <td>10.37</td>\n",
       "      <td>267</td>\n",
       "      <td>9999.0</td>\n",
       "      <td>999.0</td>\n",
       "      <td>16.7</td>\n",
       "      <td>999.0</td>\n",
       "      <td>99.0</td>\n",
       "      <td>99.0</td>\n",
       "    </tr>\n",
       "    <tr>\n",
       "      <th>17282</th>\n",
       "      <td>2023</td>\n",
       "      <td>12</td>\n",
       "      <td>31</td>\n",
       "      <td>22</td>\n",
       "      <td>56</td>\n",
       "      <td>999</td>\n",
       "      <td>99.0</td>\n",
       "      <td>99.0</td>\n",
       "      <td>1.79</td>\n",
       "      <td>13.33</td>\n",
       "      <td>10.50</td>\n",
       "      <td>268</td>\n",
       "      <td>9999.0</td>\n",
       "      <td>999.0</td>\n",
       "      <td>16.8</td>\n",
       "      <td>999.0</td>\n",
       "      <td>99.0</td>\n",
       "      <td>99.0</td>\n",
       "    </tr>\n",
       "    <tr>\n",
       "      <th>17283</th>\n",
       "      <td>2023</td>\n",
       "      <td>12</td>\n",
       "      <td>31</td>\n",
       "      <td>23</td>\n",
       "      <td>26</td>\n",
       "      <td>999</td>\n",
       "      <td>99.0</td>\n",
       "      <td>99.0</td>\n",
       "      <td>1.66</td>\n",
       "      <td>14.29</td>\n",
       "      <td>10.32</td>\n",
       "      <td>271</td>\n",
       "      <td>9999.0</td>\n",
       "      <td>999.0</td>\n",
       "      <td>16.8</td>\n",
       "      <td>999.0</td>\n",
       "      <td>99.0</td>\n",
       "      <td>99.0</td>\n",
       "    </tr>\n",
       "    <tr>\n",
       "      <th>17284</th>\n",
       "      <td>2023</td>\n",
       "      <td>12</td>\n",
       "      <td>31</td>\n",
       "      <td>23</td>\n",
       "      <td>56</td>\n",
       "      <td>999</td>\n",
       "      <td>99.0</td>\n",
       "      <td>99.0</td>\n",
       "      <td>1.70</td>\n",
       "      <td>12.50</td>\n",
       "      <td>10.54</td>\n",
       "      <td>271</td>\n",
       "      <td>9999.0</td>\n",
       "      <td>999.0</td>\n",
       "      <td>16.9</td>\n",
       "      <td>999.0</td>\n",
       "      <td>99.0</td>\n",
       "      <td>99.0</td>\n",
       "    </tr>\n",
       "  </tbody>\n",
       "</table>\n",
       "<p>17285 rows × 18 columns</p>\n",
       "</div>"
      ],
      "text/plain": [
       "         YY  MM  DD  hh  mm  WDIR  WSPD   GST  WVHT    DPD    APD  MWD  \\\n",
       "0      2023   1   1   0  26   999  99.0  99.0  1.12  12.50   7.69  269   \n",
       "1      2023   1   1   0  56   999  99.0  99.0  1.16  11.76   7.34  272   \n",
       "2      2023   1   1   1  26   999  99.0  99.0  1.20  12.50   7.08  268   \n",
       "3      2023   1   1   1  56   999  99.0  99.0  1.25  10.53   7.33  268   \n",
       "4      2023   1   1   2  26   999  99.0  99.0  1.27  10.53   7.57  268   \n",
       "...     ...  ..  ..  ..  ..   ...   ...   ...   ...    ...    ...  ...   \n",
       "17280  2023  12  31  21  56   999  99.0  99.0  2.01  14.29  11.19  270   \n",
       "17281  2023  12  31  22  26   999  99.0  99.0  1.75  15.38  10.37  267   \n",
       "17282  2023  12  31  22  56   999  99.0  99.0  1.79  13.33  10.50  268   \n",
       "17283  2023  12  31  23  26   999  99.0  99.0  1.66  14.29  10.32  271   \n",
       "17284  2023  12  31  23  56   999  99.0  99.0  1.70  12.50  10.54  271   \n",
       "\n",
       "         PRES   ATMP  WTMP   DEWP   VIS  TIDE  \n",
       "0      9999.0  999.0  15.3  999.0  99.0  99.0  \n",
       "1      9999.0  999.0  15.3  999.0  99.0  99.0  \n",
       "2      9999.0  999.0  15.3  999.0  99.0  99.0  \n",
       "3      9999.0  999.0  15.4  999.0  99.0  99.0  \n",
       "4      9999.0  999.0  15.5  999.0  99.0  99.0  \n",
       "...       ...    ...   ...    ...   ...   ...  \n",
       "17280  9999.0  999.0  16.7  999.0  99.0  99.0  \n",
       "17281  9999.0  999.0  16.7  999.0  99.0  99.0  \n",
       "17282  9999.0  999.0  16.8  999.0  99.0  99.0  \n",
       "17283  9999.0  999.0  16.8  999.0  99.0  99.0  \n",
       "17284  9999.0  999.0  16.9  999.0  99.0  99.0  \n",
       "\n",
       "[17285 rows x 18 columns]"
      ]
     },
     "execution_count": 2,
     "metadata": {},
     "output_type": "execute_result"
    }
   ],
   "source": [
    "df = pd.read_csv('Waves_2023.txt', sep='\\s+') \n",
    "df"
   ]
  },
  {
   "cell_type": "code",
   "execution_count": 3,
   "id": "b4e814aa-8011-4920-9fde-3b7217288ce4",
   "metadata": {},
   "outputs": [
    {
     "data": {
      "text/html": [
       "<div>\n",
       "<style scoped>\n",
       "    .dataframe tbody tr th:only-of-type {\n",
       "        vertical-align: middle;\n",
       "    }\n",
       "\n",
       "    .dataframe tbody tr th {\n",
       "        vertical-align: top;\n",
       "    }\n",
       "\n",
       "    .dataframe thead th {\n",
       "        text-align: right;\n",
       "    }\n",
       "</style>\n",
       "<table border=\"1\" class=\"dataframe\">\n",
       "  <thead>\n",
       "    <tr style=\"text-align: right;\">\n",
       "      <th></th>\n",
       "      <th>WVHT</th>\n",
       "      <th>DPD</th>\n",
       "      <th>APD</th>\n",
       "      <th>MWD</th>\n",
       "      <th>WTMP</th>\n",
       "    </tr>\n",
       "  </thead>\n",
       "  <tbody>\n",
       "    <tr>\n",
       "      <th>0</th>\n",
       "      <td>1.12</td>\n",
       "      <td>12.50</td>\n",
       "      <td>7.69</td>\n",
       "      <td>269</td>\n",
       "      <td>15.3</td>\n",
       "    </tr>\n",
       "    <tr>\n",
       "      <th>1</th>\n",
       "      <td>1.16</td>\n",
       "      <td>11.76</td>\n",
       "      <td>7.34</td>\n",
       "      <td>272</td>\n",
       "      <td>15.3</td>\n",
       "    </tr>\n",
       "    <tr>\n",
       "      <th>2</th>\n",
       "      <td>1.20</td>\n",
       "      <td>12.50</td>\n",
       "      <td>7.08</td>\n",
       "      <td>268</td>\n",
       "      <td>15.3</td>\n",
       "    </tr>\n",
       "    <tr>\n",
       "      <th>3</th>\n",
       "      <td>1.25</td>\n",
       "      <td>10.53</td>\n",
       "      <td>7.33</td>\n",
       "      <td>268</td>\n",
       "      <td>15.4</td>\n",
       "    </tr>\n",
       "    <tr>\n",
       "      <th>4</th>\n",
       "      <td>1.27</td>\n",
       "      <td>10.53</td>\n",
       "      <td>7.57</td>\n",
       "      <td>268</td>\n",
       "      <td>15.5</td>\n",
       "    </tr>\n",
       "    <tr>\n",
       "      <th>...</th>\n",
       "      <td>...</td>\n",
       "      <td>...</td>\n",
       "      <td>...</td>\n",
       "      <td>...</td>\n",
       "      <td>...</td>\n",
       "    </tr>\n",
       "    <tr>\n",
       "      <th>17280</th>\n",
       "      <td>2.01</td>\n",
       "      <td>14.29</td>\n",
       "      <td>11.19</td>\n",
       "      <td>270</td>\n",
       "      <td>16.7</td>\n",
       "    </tr>\n",
       "    <tr>\n",
       "      <th>17281</th>\n",
       "      <td>1.75</td>\n",
       "      <td>15.38</td>\n",
       "      <td>10.37</td>\n",
       "      <td>267</td>\n",
       "      <td>16.7</td>\n",
       "    </tr>\n",
       "    <tr>\n",
       "      <th>17282</th>\n",
       "      <td>1.79</td>\n",
       "      <td>13.33</td>\n",
       "      <td>10.50</td>\n",
       "      <td>268</td>\n",
       "      <td>16.8</td>\n",
       "    </tr>\n",
       "    <tr>\n",
       "      <th>17283</th>\n",
       "      <td>1.66</td>\n",
       "      <td>14.29</td>\n",
       "      <td>10.32</td>\n",
       "      <td>271</td>\n",
       "      <td>16.8</td>\n",
       "    </tr>\n",
       "    <tr>\n",
       "      <th>17284</th>\n",
       "      <td>1.70</td>\n",
       "      <td>12.50</td>\n",
       "      <td>10.54</td>\n",
       "      <td>271</td>\n",
       "      <td>16.9</td>\n",
       "    </tr>\n",
       "  </tbody>\n",
       "</table>\n",
       "<p>17276 rows × 5 columns</p>\n",
       "</div>"
      ],
      "text/plain": [
       "       WVHT    DPD    APD  MWD  WTMP\n",
       "0      1.12  12.50   7.69  269  15.3\n",
       "1      1.16  11.76   7.34  272  15.3\n",
       "2      1.20  12.50   7.08  268  15.3\n",
       "3      1.25  10.53   7.33  268  15.4\n",
       "4      1.27  10.53   7.57  268  15.5\n",
       "...     ...    ...    ...  ...   ...\n",
       "17280  2.01  14.29  11.19  270  16.7\n",
       "17281  1.75  15.38  10.37  267  16.7\n",
       "17282  1.79  13.33  10.50  268  16.8\n",
       "17283  1.66  14.29  10.32  271  16.8\n",
       "17284  1.70  12.50  10.54  271  16.9\n",
       "\n",
       "[17276 rows x 5 columns]"
      ]
     },
     "execution_count": 3,
     "metadata": {},
     "output_type": "execute_result"
    }
   ],
   "source": [
    "df1 = df[['WVHT', 'DPD', 'APD', 'MWD', 'WTMP']]\n",
    "df1 = df1[(df1.WVHT < 99) | (df1.DPD < 99) | (df1.APD < 99) | (df1.MWD < 990)]\n",
    "df1"
   ]
  },
  {
   "cell_type": "code",
   "execution_count": 4,
   "id": "d31417e7-bdf1-4827-83ce-f0813ff94d8d",
   "metadata": {},
   "outputs": [
    {
     "data": {
      "text/plain": [
       "array([[  1.12,  12.5 ,   7.69, 269.  ,  15.3 ],\n",
       "       [  1.16,  11.76,   7.34, 272.  ,  15.3 ],\n",
       "       [  1.2 ,  12.5 ,   7.08, 268.  ,  15.3 ],\n",
       "       ...,\n",
       "       [  1.79,  13.33,  10.5 , 268.  ,  16.8 ],\n",
       "       [  1.66,  14.29,  10.32, 271.  ,  16.8 ],\n",
       "       [  1.7 ,  12.5 ,  10.54, 271.  ,  16.9 ]])"
      ]
     },
     "execution_count": 4,
     "metadata": {},
     "output_type": "execute_result"
    }
   ],
   "source": [
    "X = df1.to_numpy()\n",
    "X"
   ]
  },
  {
   "cell_type": "markdown",
   "id": "ccf42c65-0f32-4331-b2bc-2e3cb90849a3",
   "metadata": {},
   "source": [
    "## Plot PCA"
   ]
  },
  {
   "cell_type": "code",
   "execution_count": 5,
   "id": "6cb97772-27b1-4f71-bd29-3c0c370dd480",
   "metadata": {},
   "outputs": [
    {
     "name": "stdout",
     "output_type": "stream",
     "text": [
      "[9.90777521e-01 5.67156404e-03 2.48887556e-03 9.73144741e-04\n",
      " 8.88946139e-05]\n"
     ]
    }
   ],
   "source": [
    "pca = PCA(n_components=5)\n",
    "pca.fit(X)\n",
    "var_exp = pca.explained_variance_ratio_\n",
    "print(var_exp)"
   ]
  },
  {
   "cell_type": "code",
   "execution_count": 6,
   "id": "1fb70412-f7ef-4cf1-b54d-aae15e152d41",
   "metadata": {},
   "outputs": [],
   "source": [
    "plotx = pca.transform(X)"
   ]
  },
  {
   "cell_type": "code",
   "execution_count": 7,
   "id": "7ad4f2e7-f33d-4a04-b005-26ef7c260c9d",
   "metadata": {},
   "outputs": [
    {
     "data": {
      "text/plain": [
       "<matplotlib.collections.PathCollection at 0x2c4f1a924b0>"
      ]
     },
     "execution_count": 7,
     "metadata": {},
     "output_type": "execute_result"
    },
    {
     "data": {
      "image/png": "[encoded data removed]",
      "text/plain": [
       "<Figure size 800x600 with 1 Axes>"
      ]
     },
     "metadata": {},
     "output_type": "display_data"
    }
   ],
   "source": [
    "plt.figure(figsize=(8, 6))\n",
    "plt.xlabel(f'PC1 ({var_exp[0]*100:.2f}%)', fontsize=18)\n",
    "plt.ylabel(f'PC2 ({var_exp[1]*100:.2f}%)', fontsize=18)\n",
    "plt.scatter(plotx[:,0], plotx[:,1])"
   ]
  },
  {
   "cell_type": "markdown",
   "id": "f8d8bd20-db21-4947-9d4d-58ca0e54f037",
   "metadata": {},
   "source": [
    "## Choosing Number of Clusters"
   ]
  },
  {
   "cell_type": "code",
   "execution_count": 14,
   "id": "9048dd4a-3b4b-4e5c-b5ba-cc6736420497",
   "metadata": {},
   "outputs": [],
   "source": [
    "n = np.arange(1,11)\n",
    "sse = []\n",
    "\n",
    "for k in n:\n",
    "    kmeans = KMeans(n_clusters=k)\n",
    "    kmeans.fit(plotx)\n",
    "    sse.append(kmeans.inertia_)"
   ]
  },
  {
   "cell_type": "code",
   "execution_count": 17,
   "id": "40ca8498-ce10-457a-910a-540065e672b6",
   "metadata": {},
   "outputs": [
    {
     "data": {
      "image/png": "[encoded data removed]",
      "text/plain": [
       "<Figure size 640x480 with 1 Axes>"
      ]
     },
     "metadata": {},
     "output_type": "display_data"
    }
   ],
   "source": [
    "plt.plot(n, sse)\n",
    "plt.xticks(n)\n",
    "plt.xlabel(\"Number of Clusters\")\n",
    "plt.ylabel(\"Sum of Squared Distances\")\n",
    "plt.show()"
   ]
  },
  {
   "cell_type": "markdown",
   "id": "d17fbb7f-224e-4af8-9715-271898ae3a02",
   "metadata": {},
   "source": [
    "## Plotting PCA + KMeans Cluster Centers"
   ]
  },
  {
   "cell_type": "code",
   "execution_count": 18,
   "id": "4dc09472-14a3-4f39-86eb-093ce7715720",
   "metadata": {},
   "outputs": [
    {
     "data": {
      "text/plain": [
       "array([[ 5.94153166e+01,  2.02995662e-02,  2.72085548e-02,\n",
       "        -2.99543238e-02,  2.52125292e-03],\n",
       "       [-3.29586044e+01, -1.12604865e-02, -1.50930104e-02,\n",
       "         1.66161314e-02, -1.39857839e-03]])"
      ]
     },
     "execution_count": 18,
     "metadata": {},
     "output_type": "execute_result"
    }
   ],
   "source": [
    "kmeans = KMeans(n_clusters = 2)\n",
    "kmeans.fit(plotx)\n",
    "centers = kmeans.cluster_centers_\n",
    "\n",
    "centers"
   ]
  },
  {
   "cell_type": "code",
   "execution_count": 22,
   "id": "ef63a71a-1f41-4bd8-a6ba-10b424dabfc4",
   "metadata": {},
   "outputs": [
    {
     "data": {
      "text/plain": [
       "<matplotlib.legend.Legend at 0x2c4f6e1fce0>"
      ]
     },
     "execution_count": 22,
     "metadata": {},
     "output_type": "execute_result"
    },
    {
     "data": {
      "image/png": "[encoded data removed]",
      "text/plain": [
       "<Figure size 800x600 with 1 Axes>"
      ]
     },
     "metadata": {},
     "output_type": "display_data"
    }
   ],
   "source": [
    "plt.figure(figsize=(8, 6))\n",
    "plt.xlabel(f'PC1 ({var_exp[0]*100:.2f}%)', fontsize=18)\n",
    "plt.ylabel(f'PC2 ({var_exp[1]*100:.2f}%)', fontsize=18)\n",
    "plt.scatter(plotx[:,0], plotx[:,1])\n",
    "plt.scatter(centers[0,0], centers[0,1], marker='x', label='center 1')\n",
    "plt.scatter(centers[1,0], centers[1,1], marker='x', label='center 2')\n",
    "plt.legend()"
   ]
  },
  {
   "cell_type": "code",
   "execution_count": null,
   "id": "98db5052-5e7a-4f8d-a377-e877dce04b7b",
   "metadata": {},
   "outputs": [],
   "source": []
  }
 ],
 "metadata": {
  "kernelspec": {
   "display_name": "Python 3 (ipykernel)",
   "language": "python",
   "name": "python3"
  },
  "language_info": {
   "codemirror_mode": {
    "name": "ipython",
    "version": 3
   },
   "file_extension": ".py",
   "mimetype": "text/x-python",
   "name": "python",
   "nbconvert_exporter": "python",
   "pygments_lexer": "ipython3",
   "version": "3.12.0"
  }
 },
 "nbformat": 4,
 "nbformat_minor": 5
}
