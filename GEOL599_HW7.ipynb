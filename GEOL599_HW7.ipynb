{
 "cells": [
  {
   "cell_type": "code",
   "execution_count": 1,
   "id": "7da486aa-ccd2-4151-8398-aac6a94f2452",
   "metadata": {},
   "outputs": [
    {
     "name": "stderr",
     "output_type": "stream",
     "text": [
      "C:\\Users\\Thaomy\\AppData\\Local\\Temp\\ipykernel_3580\\2277233809.py:1: DeprecationWarning: \n",
      "Pyarrow will become a required dependency of pandas in the next major release of pandas (pandas 3.0),\n",
      "(to allow more performant data types, such as the Arrow string type, and better interoperability with other libraries)\n",
      "but was not found to be installed on your system.\n",
      "If this would cause problems for you,\n",
      "please provide us feedback at https://github.com/pandas-dev/pandas/issues/54466\n",
      "        \n",
      "  import pandas as pd\n"
     ]
    }
   ],
   "source": [
    "import pandas as pd\n",
    "import numpy as np\n",
    "from matplotlib import pyplot as plt\n",
    "import seaborn as sns\n",
    "from sklearn import linear_model\n",
    "from sklearn.linear_model import RidgeClassifier"
   ]
  },
  {
   "cell_type": "markdown",
   "id": "9e31784f-a448-4194-817c-9b105591a4db",
   "metadata": {},
   "source": [
    "### Importing and Restructuring the Data"
   ]
  },
  {
   "cell_type": "code",
   "execution_count": 2,
   "id": "64592e11-851a-4657-afe2-7166794f9c2f",
   "metadata": {},
   "outputs": [],
   "source": [
    "df = pd.read_csv('LA_AQS_2023.csv')"
   ]
  },
  {
   "cell_type": "code",
   "execution_count": 3,
   "id": "fd10497f-06da-44c8-96ea-2c41daa54103",
   "metadata": {},
   "outputs": [
    {
     "data": {
      "text/html": [
       "<div>\n",
       "<style scoped>\n",
       "    .dataframe tbody tr th:only-of-type {\n",
       "        vertical-align: middle;\n",
       "    }\n",
       "\n",
       "    .dataframe tbody tr th {\n",
       "        vertical-align: top;\n",
       "    }\n",
       "\n",
       "    .dataframe thead th {\n",
       "        text-align: right;\n",
       "    }\n",
       "</style>\n",
       "<table border=\"1\" class=\"dataframe\">\n",
       "  <thead>\n",
       "    <tr style=\"text-align: right;\">\n",
       "      <th></th>\n",
       "      <th>O3</th>\n",
       "      <th>date</th>\n",
       "    </tr>\n",
       "  </thead>\n",
       "  <tbody>\n",
       "    <tr>\n",
       "      <th>20</th>\n",
       "      <td>0.031708</td>\n",
       "      <td>2023-01-01</td>\n",
       "    </tr>\n",
       "    <tr>\n",
       "      <th>64</th>\n",
       "      <td>0.015792</td>\n",
       "      <td>2023-01-02</td>\n",
       "    </tr>\n",
       "    <tr>\n",
       "      <th>204</th>\n",
       "      <td>0.025000</td>\n",
       "      <td>2023-01-03</td>\n",
       "    </tr>\n",
       "    <tr>\n",
       "      <th>228</th>\n",
       "      <td>0.020500</td>\n",
       "      <td>2023-01-04</td>\n",
       "    </tr>\n",
       "    <tr>\n",
       "      <th>271</th>\n",
       "      <td>0.027375</td>\n",
       "      <td>2023-01-05</td>\n",
       "    </tr>\n",
       "    <tr>\n",
       "      <th>...</th>\n",
       "      <td>...</td>\n",
       "      <td>...</td>\n",
       "    </tr>\n",
       "    <tr>\n",
       "      <th>21122</th>\n",
       "      <td>0.020750</td>\n",
       "      <td>2023-09-26</td>\n",
       "    </tr>\n",
       "    <tr>\n",
       "      <th>21168</th>\n",
       "      <td>0.020700</td>\n",
       "      <td>2023-09-27</td>\n",
       "    </tr>\n",
       "    <tr>\n",
       "      <th>21218</th>\n",
       "      <td>0.035056</td>\n",
       "      <td>2023-09-28</td>\n",
       "    </tr>\n",
       "    <tr>\n",
       "      <th>21261</th>\n",
       "      <td>0.039048</td>\n",
       "      <td>2023-09-29</td>\n",
       "    </tr>\n",
       "    <tr>\n",
       "      <th>21305</th>\n",
       "      <td>0.030042</td>\n",
       "      <td>2023-09-30</td>\n",
       "    </tr>\n",
       "  </tbody>\n",
       "</table>\n",
       "<p>273 rows × 2 columns</p>\n",
       "</div>"
      ],
      "text/plain": [
       "             O3        date\n",
       "20     0.031708  2023-01-01\n",
       "64     0.015792  2023-01-02\n",
       "204    0.025000  2023-01-03\n",
       "228    0.020500  2023-01-04\n",
       "271    0.027375  2023-01-05\n",
       "...         ...         ...\n",
       "21122  0.020750  2023-09-26\n",
       "21168  0.020700  2023-09-27\n",
       "21218  0.035056  2023-09-28\n",
       "21261  0.039048  2023-09-29\n",
       "21305  0.030042  2023-09-30\n",
       "\n",
       "[273 rows x 2 columns]"
      ]
     },
     "execution_count": 3,
     "metadata": {},
     "output_type": "execute_result"
    }
   ],
   "source": [
    "df_O3 = df[(df['Parameter Name']=='Ozone') & (df['Duration Description']=='1 HOUR')]\n",
    "df_O3 = pd.DataFrame(data = {\"O3\" : df_O3[\"Arithmetic Mean\"], 'date' : df_O3[\"Date (Local)\"]})\n",
    "df_O3"
   ]
  },
  {
   "cell_type": "code",
   "execution_count": 4,
   "id": "c704ac13-e251-4c43-be59-ad514b5925c0",
   "metadata": {},
   "outputs": [
    {
     "data": {
      "text/html": [
       "<div>\n",
       "<style scoped>\n",
       "    .dataframe tbody tr th:only-of-type {\n",
       "        vertical-align: middle;\n",
       "    }\n",
       "\n",
       "    .dataframe tbody tr th {\n",
       "        vertical-align: top;\n",
       "    }\n",
       "\n",
       "    .dataframe thead th {\n",
       "        text-align: right;\n",
       "    }\n",
       "</style>\n",
       "<table border=\"1\" class=\"dataframe\">\n",
       "  <thead>\n",
       "    <tr style=\"text-align: right;\">\n",
       "      <th></th>\n",
       "      <th>NO2</th>\n",
       "      <th>date</th>\n",
       "    </tr>\n",
       "  </thead>\n",
       "  <tbody>\n",
       "    <tr>\n",
       "      <th>1</th>\n",
       "      <td>4.816667</td>\n",
       "      <td>2023-01-01</td>\n",
       "    </tr>\n",
       "    <tr>\n",
       "      <th>19</th>\n",
       "      <td>4.550000</td>\n",
       "      <td>2023-01-01</td>\n",
       "    </tr>\n",
       "    <tr>\n",
       "      <th>29</th>\n",
       "      <td>4.550000</td>\n",
       "      <td>2023-01-01</td>\n",
       "    </tr>\n",
       "    <tr>\n",
       "      <th>41</th>\n",
       "      <td>4.816667</td>\n",
       "      <td>2023-01-01</td>\n",
       "    </tr>\n",
       "    <tr>\n",
       "      <th>44</th>\n",
       "      <td>14.720833</td>\n",
       "      <td>2023-01-02</td>\n",
       "    </tr>\n",
       "    <tr>\n",
       "      <th>...</th>\n",
       "      <td>...</td>\n",
       "      <td>...</td>\n",
       "    </tr>\n",
       "    <tr>\n",
       "      <th>21264</th>\n",
       "      <td>8.614286</td>\n",
       "      <td>2023-09-29</td>\n",
       "    </tr>\n",
       "    <tr>\n",
       "      <th>21297</th>\n",
       "      <td>6.370833</td>\n",
       "      <td>2023-09-30</td>\n",
       "    </tr>\n",
       "    <tr>\n",
       "      <th>21298</th>\n",
       "      <td>6.370833</td>\n",
       "      <td>2023-09-30</td>\n",
       "    </tr>\n",
       "    <tr>\n",
       "      <th>21307</th>\n",
       "      <td>7.362500</td>\n",
       "      <td>2023-09-30</td>\n",
       "    </tr>\n",
       "    <tr>\n",
       "      <th>21308</th>\n",
       "      <td>7.362500</td>\n",
       "      <td>2023-09-30</td>\n",
       "    </tr>\n",
       "  </tbody>\n",
       "</table>\n",
       "<p>1092 rows × 2 columns</p>\n",
       "</div>"
      ],
      "text/plain": [
       "             NO2        date\n",
       "1       4.816667  2023-01-01\n",
       "19      4.550000  2023-01-01\n",
       "29      4.550000  2023-01-01\n",
       "41      4.816667  2023-01-01\n",
       "44     14.720833  2023-01-02\n",
       "...          ...         ...\n",
       "21264   8.614286  2023-09-29\n",
       "21297   6.370833  2023-09-30\n",
       "21298   6.370833  2023-09-30\n",
       "21307   7.362500  2023-09-30\n",
       "21308   7.362500  2023-09-30\n",
       "\n",
       "[1092 rows x 2 columns]"
      ]
     },
     "execution_count": 4,
     "metadata": {},
     "output_type": "execute_result"
    }
   ],
   "source": [
    "df_NO2 = df[(df['Parameter Name']=='Nitrogen dioxide (NO2)') & (df['Duration Description']=='1 HOUR')]\n",
    "df_NO2 = pd.DataFrame(data = {\"NO2\" : df_NO2[\"Arithmetic Mean\"], 'date' : df_NO2[\"Date (Local)\"]})\n",
    "df_NO2"
   ]
  },
  {
   "cell_type": "code",
   "execution_count": 5,
   "id": "a5af53fb-c5fd-4bd7-a0c9-b5d128c23a7a",
   "metadata": {},
   "outputs": [
    {
     "data": {
      "text/html": [
       "<div>\n",
       "<style scoped>\n",
       "    .dataframe tbody tr th:only-of-type {\n",
       "        vertical-align: middle;\n",
       "    }\n",
       "\n",
       "    .dataframe tbody tr th {\n",
       "        vertical-align: top;\n",
       "    }\n",
       "\n",
       "    .dataframe thead th {\n",
       "        text-align: right;\n",
       "    }\n",
       "</style>\n",
       "<table border=\"1\" class=\"dataframe\">\n",
       "  <thead>\n",
       "    <tr style=\"text-align: right;\">\n",
       "      <th></th>\n",
       "      <th>PM</th>\n",
       "      <th>date</th>\n",
       "    </tr>\n",
       "  </thead>\n",
       "  <tbody>\n",
       "    <tr>\n",
       "      <th>30</th>\n",
       "      <td>5.087500</td>\n",
       "      <td>2023-01-01</td>\n",
       "    </tr>\n",
       "    <tr>\n",
       "      <th>73</th>\n",
       "      <td>9.187500</td>\n",
       "      <td>2023-01-02</td>\n",
       "    </tr>\n",
       "    <tr>\n",
       "      <th>92</th>\n",
       "      <td>4.312500</td>\n",
       "      <td>2023-01-03</td>\n",
       "    </tr>\n",
       "    <tr>\n",
       "      <th>237</th>\n",
       "      <td>4.266667</td>\n",
       "      <td>2023-01-04</td>\n",
       "    </tr>\n",
       "    <tr>\n",
       "      <th>280</th>\n",
       "      <td>6.704167</td>\n",
       "      <td>2023-01-05</td>\n",
       "    </tr>\n",
       "    <tr>\n",
       "      <th>...</th>\n",
       "      <td>...</td>\n",
       "      <td>...</td>\n",
       "    </tr>\n",
       "    <tr>\n",
       "      <th>21109</th>\n",
       "      <td>14.225000</td>\n",
       "      <td>2023-09-26</td>\n",
       "    </tr>\n",
       "    <tr>\n",
       "      <th>21139</th>\n",
       "      <td>12.829167</td>\n",
       "      <td>2023-09-27</td>\n",
       "    </tr>\n",
       "    <tr>\n",
       "      <th>21203</th>\n",
       "      <td>13.883333</td>\n",
       "      <td>2023-09-28</td>\n",
       "    </tr>\n",
       "    <tr>\n",
       "      <th>21246</th>\n",
       "      <td>10.875000</td>\n",
       "      <td>2023-09-29</td>\n",
       "    </tr>\n",
       "    <tr>\n",
       "      <th>21290</th>\n",
       "      <td>6.416667</td>\n",
       "      <td>2023-09-30</td>\n",
       "    </tr>\n",
       "  </tbody>\n",
       "</table>\n",
       "<p>271 rows × 2 columns</p>\n",
       "</div>"
      ],
      "text/plain": [
       "              PM        date\n",
       "30      5.087500  2023-01-01\n",
       "73      9.187500  2023-01-02\n",
       "92      4.312500  2023-01-03\n",
       "237     4.266667  2023-01-04\n",
       "280     6.704167  2023-01-05\n",
       "...          ...         ...\n",
       "21109  14.225000  2023-09-26\n",
       "21139  12.829167  2023-09-27\n",
       "21203  13.883333  2023-09-28\n",
       "21246  10.875000  2023-09-29\n",
       "21290   6.416667  2023-09-30\n",
       "\n",
       "[271 rows x 2 columns]"
      ]
     },
     "execution_count": 5,
     "metadata": {},
     "output_type": "execute_result"
    }
   ],
   "source": [
    "df_PM = df[(df['Parameter Name']=='PM2.5 - Local Conditions') & (df['Duration Description']=='1 HOUR')]\n",
    "df_PM = pd.DataFrame(data = {\"PM\" : df_PM[\"Arithmetic Mean\"], 'date' : df_PM[\"Date (Local)\"]})\n",
    "df_PM"
   ]
  },
  {
   "cell_type": "code",
   "execution_count": 6,
   "id": "996783d9-cf5f-4a26-b417-c96376fd844e",
   "metadata": {},
   "outputs": [
    {
     "data": {
      "text/html": [
       "<div>\n",
       "<style scoped>\n",
       "    .dataframe tbody tr th:only-of-type {\n",
       "        vertical-align: middle;\n",
       "    }\n",
       "\n",
       "    .dataframe tbody tr th {\n",
       "        vertical-align: top;\n",
       "    }\n",
       "\n",
       "    .dataframe thead th {\n",
       "        text-align: right;\n",
       "    }\n",
       "</style>\n",
       "<table border=\"1\" class=\"dataframe\">\n",
       "  <thead>\n",
       "    <tr style=\"text-align: right;\">\n",
       "      <th></th>\n",
       "      <th>NO2</th>\n",
       "      <th>date</th>\n",
       "      <th>O3</th>\n",
       "    </tr>\n",
       "  </thead>\n",
       "  <tbody>\n",
       "    <tr>\n",
       "      <th>0</th>\n",
       "      <td>4.816667</td>\n",
       "      <td>2023-01-01</td>\n",
       "      <td>0.031708</td>\n",
       "    </tr>\n",
       "    <tr>\n",
       "      <th>1</th>\n",
       "      <td>4.550000</td>\n",
       "      <td>2023-01-01</td>\n",
       "      <td>0.031708</td>\n",
       "    </tr>\n",
       "    <tr>\n",
       "      <th>2</th>\n",
       "      <td>4.550000</td>\n",
       "      <td>2023-01-01</td>\n",
       "      <td>0.031708</td>\n",
       "    </tr>\n",
       "    <tr>\n",
       "      <th>3</th>\n",
       "      <td>4.816667</td>\n",
       "      <td>2023-01-01</td>\n",
       "      <td>0.031708</td>\n",
       "    </tr>\n",
       "    <tr>\n",
       "      <th>4</th>\n",
       "      <td>14.720833</td>\n",
       "      <td>2023-01-02</td>\n",
       "      <td>0.015792</td>\n",
       "    </tr>\n",
       "    <tr>\n",
       "      <th>...</th>\n",
       "      <td>...</td>\n",
       "      <td>...</td>\n",
       "      <td>...</td>\n",
       "    </tr>\n",
       "    <tr>\n",
       "      <th>1087</th>\n",
       "      <td>8.614286</td>\n",
       "      <td>2023-09-29</td>\n",
       "      <td>0.039048</td>\n",
       "    </tr>\n",
       "    <tr>\n",
       "      <th>1088</th>\n",
       "      <td>6.370833</td>\n",
       "      <td>2023-09-30</td>\n",
       "      <td>0.030042</td>\n",
       "    </tr>\n",
       "    <tr>\n",
       "      <th>1089</th>\n",
       "      <td>6.370833</td>\n",
       "      <td>2023-09-30</td>\n",
       "      <td>0.030042</td>\n",
       "    </tr>\n",
       "    <tr>\n",
       "      <th>1090</th>\n",
       "      <td>7.362500</td>\n",
       "      <td>2023-09-30</td>\n",
       "      <td>0.030042</td>\n",
       "    </tr>\n",
       "    <tr>\n",
       "      <th>1091</th>\n",
       "      <td>7.362500</td>\n",
       "      <td>2023-09-30</td>\n",
       "      <td>0.030042</td>\n",
       "    </tr>\n",
       "  </tbody>\n",
       "</table>\n",
       "<p>1092 rows × 3 columns</p>\n",
       "</div>"
      ],
      "text/plain": [
       "            NO2        date        O3\n",
       "0      4.816667  2023-01-01  0.031708\n",
       "1      4.550000  2023-01-01  0.031708\n",
       "2      4.550000  2023-01-01  0.031708\n",
       "3      4.816667  2023-01-01  0.031708\n",
       "4     14.720833  2023-01-02  0.015792\n",
       "...         ...         ...       ...\n",
       "1087   8.614286  2023-09-29  0.039048\n",
       "1088   6.370833  2023-09-30  0.030042\n",
       "1089   6.370833  2023-09-30  0.030042\n",
       "1090   7.362500  2023-09-30  0.030042\n",
       "1091   7.362500  2023-09-30  0.030042\n",
       "\n",
       "[1092 rows x 3 columns]"
      ]
     },
     "execution_count": 6,
     "metadata": {},
     "output_type": "execute_result"
    }
   ],
   "source": [
    "df_all = df_NO2.merge(df_O3, on=['date'])\n",
    "df_all"
   ]
  },
  {
   "cell_type": "code",
   "execution_count": 7,
   "id": "29c3aa41-7bf6-455a-87b4-0cd805fa7fbc",
   "metadata": {},
   "outputs": [
    {
     "data": {
      "text/html": [
       "<div>\n",
       "<style scoped>\n",
       "    .dataframe tbody tr th:only-of-type {\n",
       "        vertical-align: middle;\n",
       "    }\n",
       "\n",
       "    .dataframe tbody tr th {\n",
       "        vertical-align: top;\n",
       "    }\n",
       "\n",
       "    .dataframe thead th {\n",
       "        text-align: right;\n",
       "    }\n",
       "</style>\n",
       "<table border=\"1\" class=\"dataframe\">\n",
       "  <thead>\n",
       "    <tr style=\"text-align: right;\">\n",
       "      <th></th>\n",
       "      <th>NO2</th>\n",
       "      <th>date</th>\n",
       "      <th>O3</th>\n",
       "      <th>PM</th>\n",
       "    </tr>\n",
       "  </thead>\n",
       "  <tbody>\n",
       "    <tr>\n",
       "      <th>0</th>\n",
       "      <td>4.816667</td>\n",
       "      <td>2023-01-01</td>\n",
       "      <td>0.031708</td>\n",
       "      <td>5.087500</td>\n",
       "    </tr>\n",
       "    <tr>\n",
       "      <th>1</th>\n",
       "      <td>4.550000</td>\n",
       "      <td>2023-01-01</td>\n",
       "      <td>0.031708</td>\n",
       "      <td>5.087500</td>\n",
       "    </tr>\n",
       "    <tr>\n",
       "      <th>2</th>\n",
       "      <td>4.550000</td>\n",
       "      <td>2023-01-01</td>\n",
       "      <td>0.031708</td>\n",
       "      <td>5.087500</td>\n",
       "    </tr>\n",
       "    <tr>\n",
       "      <th>3</th>\n",
       "      <td>4.816667</td>\n",
       "      <td>2023-01-01</td>\n",
       "      <td>0.031708</td>\n",
       "      <td>5.087500</td>\n",
       "    </tr>\n",
       "    <tr>\n",
       "      <th>4</th>\n",
       "      <td>14.720833</td>\n",
       "      <td>2023-01-02</td>\n",
       "      <td>0.015792</td>\n",
       "      <td>9.187500</td>\n",
       "    </tr>\n",
       "    <tr>\n",
       "      <th>...</th>\n",
       "      <td>...</td>\n",
       "      <td>...</td>\n",
       "      <td>...</td>\n",
       "      <td>...</td>\n",
       "    </tr>\n",
       "    <tr>\n",
       "      <th>1079</th>\n",
       "      <td>8.614286</td>\n",
       "      <td>2023-09-29</td>\n",
       "      <td>0.039048</td>\n",
       "      <td>10.875000</td>\n",
       "    </tr>\n",
       "    <tr>\n",
       "      <th>1080</th>\n",
       "      <td>6.370833</td>\n",
       "      <td>2023-09-30</td>\n",
       "      <td>0.030042</td>\n",
       "      <td>6.416667</td>\n",
       "    </tr>\n",
       "    <tr>\n",
       "      <th>1081</th>\n",
       "      <td>6.370833</td>\n",
       "      <td>2023-09-30</td>\n",
       "      <td>0.030042</td>\n",
       "      <td>6.416667</td>\n",
       "    </tr>\n",
       "    <tr>\n",
       "      <th>1082</th>\n",
       "      <td>7.362500</td>\n",
       "      <td>2023-09-30</td>\n",
       "      <td>0.030042</td>\n",
       "      <td>6.416667</td>\n",
       "    </tr>\n",
       "    <tr>\n",
       "      <th>1083</th>\n",
       "      <td>7.362500</td>\n",
       "      <td>2023-09-30</td>\n",
       "      <td>0.030042</td>\n",
       "      <td>6.416667</td>\n",
       "    </tr>\n",
       "  </tbody>\n",
       "</table>\n",
       "<p>1084 rows × 4 columns</p>\n",
       "</div>"
      ],
      "text/plain": [
       "            NO2        date        O3         PM\n",
       "0      4.816667  2023-01-01  0.031708   5.087500\n",
       "1      4.550000  2023-01-01  0.031708   5.087500\n",
       "2      4.550000  2023-01-01  0.031708   5.087500\n",
       "3      4.816667  2023-01-01  0.031708   5.087500\n",
       "4     14.720833  2023-01-02  0.015792   9.187500\n",
       "...         ...         ...       ...        ...\n",
       "1079   8.614286  2023-09-29  0.039048  10.875000\n",
       "1080   6.370833  2023-09-30  0.030042   6.416667\n",
       "1081   6.370833  2023-09-30  0.030042   6.416667\n",
       "1082   7.362500  2023-09-30  0.030042   6.416667\n",
       "1083   7.362500  2023-09-30  0.030042   6.416667\n",
       "\n",
       "[1084 rows x 4 columns]"
      ]
     },
     "execution_count": 7,
     "metadata": {},
     "output_type": "execute_result"
    }
   ],
   "source": [
    "df_all = df_all.merge(df_PM, on=['date'])\n",
    "df_all"
   ]
  },
  {
   "cell_type": "code",
   "execution_count": 8,
   "id": "460b7b24-94dc-4ebb-8dc5-1ab6066038e9",
   "metadata": {},
   "outputs": [
    {
     "data": {
      "text/plain": [
       "Text(0.5, 1.0, 'Scatterplot of O3 vs. NO2')"
      ]
     },
     "execution_count": 8,
     "metadata": {},
     "output_type": "execute_result"
    },
    {
     "data": {
      "image/png": "[encoded data removed]",
      "text/plain": [
       "<Figure size 640x480 with 1 Axes>"
      ]
     },
     "metadata": {},
     "output_type": "display_data"
    }
   ],
   "source": [
    "on = sns.scatterplot(data=df_all, x='NO2', y='O3')\n",
    "on.set_xlabel('Nitrogen Dioxide (ppb)')\n",
    "on.set_ylabel('Ozone (ppm)')\n",
    "on.set_title('Scatterplot of O3 vs. NO2')"
   ]
  },
  {
   "cell_type": "code",
   "execution_count": 9,
   "id": "b43a7eb7-1c3b-45cb-959e-6ae6d4049eaa",
   "metadata": {},
   "outputs": [
    {
     "name": "stderr",
     "output_type": "stream",
     "text": [
      "<>:2: SyntaxWarning: invalid escape sequence '\\m'\n",
      "<>:2: SyntaxWarning: invalid escape sequence '\\m'\n",
      "C:\\Users\\Thaomy\\AppData\\Local\\Temp\\ipykernel_3580\\3749922370.py:2: SyntaxWarning: invalid escape sequence '\\m'\n",
      "  op.set_xlabel('PM2.5 Concentration ($\\mu g / m^3$)')\n"
     ]
    },
    {
     "data": {
      "text/plain": [
       "Text(0.5, 1.0, 'Scatterplot of O3 vs. PM2.5')"
      ]
     },
     "execution_count": 9,
     "metadata": {},
     "output_type": "execute_result"
    },
    {
     "data": {
      "image/png": "[encoded data removed]",
      "text/plain": [
       "<Figure size 640x480 with 1 Axes>"
      ]
     },
     "metadata": {},
     "output_type": "display_data"
    }
   ],
   "source": [
    "op = sns.scatterplot(data=df_all, x='PM', y='O3')\n",
    "op.set_xlabel('PM2.5 Concentration ($\\mu g / m^3$)')\n",
    "op.set_ylabel('Ozone (ppm)')\n",
    "op.set_title('Scatterplot of O3 vs. PM2.5')"
   ]
  },
  {
   "cell_type": "code",
   "execution_count": 10,
   "id": "82c45565-bc2e-4355-bcaf-859f45f0c52d",
   "metadata": {},
   "outputs": [
    {
     "data": {
      "text/plain": [
       "array([1, 1, 1, ..., 9, 9, 9])"
      ]
     },
     "execution_count": 10,
     "metadata": {},
     "output_type": "execute_result"
    }
   ],
   "source": [
    "months = pd.DatetimeIndex(df_all['date']).month.values # without the .values, it would spit out a nd64 index\n",
    "months"
   ]
  },
  {
   "cell_type": "code",
   "execution_count": 11,
   "id": "963f5d21-0625-4afa-bd7a-b3cc88f5afa9",
   "metadata": {},
   "outputs": [],
   "source": [
    "sIdx = months - months #Set values (including winter) to zero\n",
    "\n",
    "sIdx[months == 12] = 0 #Set winter to 1\n",
    "sIdx[months == 1] = 0\n",
    "sIdx[months == 2] = 0\n",
    "\n",
    "sIdx[months == 6] = 1 #Set summer to 1\n",
    "sIdx[months == 7] = 1\n",
    "sIdx[months == 8] = 1\n",
    "\n",
    "sIdx[months == 3] = -1 #Set spring to -1\n",
    "sIdx[months == 4] = -1\n",
    "sIdx[months == 5] = -1\n",
    "\n",
    "sIdx[months == 9] = -1 #Set fall to -1\n",
    "sIdx[months == 10] = -1\n",
    "sIdx[months == 11] = -1"
   ]
  },
  {
   "cell_type": "code",
   "execution_count": 12,
   "id": "70f8c56a-aebd-4b8e-93c6-d89e29b46daa",
   "metadata": {},
   "outputs": [
    {
     "data": {
      "text/plain": [
       "array([ 0,  0,  0, ..., -1, -1, -1])"
      ]
     },
     "execution_count": 12,
     "metadata": {},
     "output_type": "execute_result"
    }
   ],
   "source": [
    "sIdx"
   ]
  },
  {
   "cell_type": "code",
   "execution_count": 13,
   "id": "6eedeb2b-e8ef-4be6-9792-8f075eaa131b",
   "metadata": {},
   "outputs": [
    {
     "data": {
      "text/html": [
       "<div>\n",
       "<style scoped>\n",
       "    .dataframe tbody tr th:only-of-type {\n",
       "        vertical-align: middle;\n",
       "    }\n",
       "\n",
       "    .dataframe tbody tr th {\n",
       "        vertical-align: top;\n",
       "    }\n",
       "\n",
       "    .dataframe thead th {\n",
       "        text-align: right;\n",
       "    }\n",
       "</style>\n",
       "<table border=\"1\" class=\"dataframe\">\n",
       "  <thead>\n",
       "    <tr style=\"text-align: right;\">\n",
       "      <th></th>\n",
       "      <th>NO2</th>\n",
       "      <th>O3</th>\n",
       "      <th>PM</th>\n",
       "      <th>Season</th>\n",
       "    </tr>\n",
       "  </thead>\n",
       "  <tbody>\n",
       "    <tr>\n",
       "      <th>count</th>\n",
       "      <td>1084.000000</td>\n",
       "      <td>1084.000000</td>\n",
       "      <td>1084.000000</td>\n",
       "      <td>1084.000000</td>\n",
       "    </tr>\n",
       "    <tr>\n",
       "      <th>mean</th>\n",
       "      <td>13.306238</td>\n",
       "      <td>0.027882</td>\n",
       "      <td>11.936013</td>\n",
       "      <td>-0.103321</td>\n",
       "    </tr>\n",
       "    <tr>\n",
       "      <th>std</th>\n",
       "      <td>6.205608</td>\n",
       "      <td>0.007571</td>\n",
       "      <td>5.099546</td>\n",
       "      <td>0.878820</td>\n",
       "    </tr>\n",
       "    <tr>\n",
       "      <th>min</th>\n",
       "      <td>3.458333</td>\n",
       "      <td>0.008333</td>\n",
       "      <td>3.250000</td>\n",
       "      <td>-1.000000</td>\n",
       "    </tr>\n",
       "    <tr>\n",
       "      <th>25%</th>\n",
       "      <td>8.780952</td>\n",
       "      <td>0.023833</td>\n",
       "      <td>8.145833</td>\n",
       "      <td>-1.000000</td>\n",
       "    </tr>\n",
       "    <tr>\n",
       "      <th>50%</th>\n",
       "      <td>11.618750</td>\n",
       "      <td>0.028458</td>\n",
       "      <td>10.912500</td>\n",
       "      <td>0.000000</td>\n",
       "    </tr>\n",
       "    <tr>\n",
       "      <th>75%</th>\n",
       "      <td>16.641667</td>\n",
       "      <td>0.032958</td>\n",
       "      <td>15.154167</td>\n",
       "      <td>1.000000</td>\n",
       "    </tr>\n",
       "    <tr>\n",
       "      <th>max</th>\n",
       "      <td>33.466667</td>\n",
       "      <td>0.045750</td>\n",
       "      <td>31.979167</td>\n",
       "      <td>1.000000</td>\n",
       "    </tr>\n",
       "  </tbody>\n",
       "</table>\n",
       "</div>"
      ],
      "text/plain": [
       "               NO2           O3           PM       Season\n",
       "count  1084.000000  1084.000000  1084.000000  1084.000000\n",
       "mean     13.306238     0.027882    11.936013    -0.103321\n",
       "std       6.205608     0.007571     5.099546     0.878820\n",
       "min       3.458333     0.008333     3.250000    -1.000000\n",
       "25%       8.780952     0.023833     8.145833    -1.000000\n",
       "50%      11.618750     0.028458    10.912500     0.000000\n",
       "75%      16.641667     0.032958    15.154167     1.000000\n",
       "max      33.466667     0.045750    31.979167     1.000000"
      ]
     },
     "execution_count": 13,
     "metadata": {},
     "output_type": "execute_result"
    }
   ],
   "source": [
    "df_all['Season'] = sIdx\n",
    "df_all.describe()"
   ]
  },
  {
   "cell_type": "code",
   "execution_count": 14,
   "id": "03b11acd-2dcc-4ac2-8a54-d8bc4ffbef1c",
   "metadata": {},
   "outputs": [
    {
     "data": {
      "text/html": [
       "<div>\n",
       "<style scoped>\n",
       "    .dataframe tbody tr th:only-of-type {\n",
       "        vertical-align: middle;\n",
       "    }\n",
       "\n",
       "    .dataframe tbody tr th {\n",
       "        vertical-align: top;\n",
       "    }\n",
       "\n",
       "    .dataframe thead th {\n",
       "        text-align: right;\n",
       "    }\n",
       "</style>\n",
       "<table border=\"1\" class=\"dataframe\">\n",
       "  <thead>\n",
       "    <tr style=\"text-align: right;\">\n",
       "      <th></th>\n",
       "      <th>NO2</th>\n",
       "      <th>O3</th>\n",
       "      <th>PM</th>\n",
       "      <th>Season</th>\n",
       "    </tr>\n",
       "  </thead>\n",
       "  <tbody>\n",
       "    <tr>\n",
       "      <th>count</th>\n",
       "      <td>604.000000</td>\n",
       "      <td>604.000000</td>\n",
       "      <td>604.000000</td>\n",
       "      <td>604.000000</td>\n",
       "    </tr>\n",
       "    <tr>\n",
       "      <th>mean</th>\n",
       "      <td>14.908291</td>\n",
       "      <td>0.025534</td>\n",
       "      <td>11.883327</td>\n",
       "      <td>0.609272</td>\n",
       "    </tr>\n",
       "    <tr>\n",
       "      <th>std</th>\n",
       "      <td>6.819712</td>\n",
       "      <td>0.007501</td>\n",
       "      <td>4.928007</td>\n",
       "      <td>0.488318</td>\n",
       "    </tr>\n",
       "    <tr>\n",
       "      <th>min</th>\n",
       "      <td>4.250000</td>\n",
       "      <td>0.008333</td>\n",
       "      <td>3.250000</td>\n",
       "      <td>0.000000</td>\n",
       "    </tr>\n",
       "    <tr>\n",
       "      <th>25%</th>\n",
       "      <td>9.700000</td>\n",
       "      <td>0.022000</td>\n",
       "      <td>8.545833</td>\n",
       "      <td>0.000000</td>\n",
       "    </tr>\n",
       "    <tr>\n",
       "      <th>50%</th>\n",
       "      <td>13.425000</td>\n",
       "      <td>0.026417</td>\n",
       "      <td>10.900000</td>\n",
       "      <td>1.000000</td>\n",
       "    </tr>\n",
       "    <tr>\n",
       "      <th>75%</th>\n",
       "      <td>19.133333</td>\n",
       "      <td>0.031542</td>\n",
       "      <td>15.266667</td>\n",
       "      <td>1.000000</td>\n",
       "    </tr>\n",
       "    <tr>\n",
       "      <th>max</th>\n",
       "      <td>33.466667</td>\n",
       "      <td>0.042833</td>\n",
       "      <td>31.979167</td>\n",
       "      <td>1.000000</td>\n",
       "    </tr>\n",
       "  </tbody>\n",
       "</table>\n",
       "</div>"
      ],
      "text/plain": [
       "              NO2          O3          PM      Season\n",
       "count  604.000000  604.000000  604.000000  604.000000\n",
       "mean    14.908291    0.025534   11.883327    0.609272\n",
       "std      6.819712    0.007501    4.928007    0.488318\n",
       "min      4.250000    0.008333    3.250000    0.000000\n",
       "25%      9.700000    0.022000    8.545833    0.000000\n",
       "50%     13.425000    0.026417   10.900000    1.000000\n",
       "75%     19.133333    0.031542   15.266667    1.000000\n",
       "max     33.466667    0.042833   31.979167    1.000000"
      ]
     },
     "execution_count": 14,
     "metadata": {},
     "output_type": "execute_result"
    }
   ],
   "source": [
    "df_all = df_all[df_all['Season'] > -1] # should keep only winter(0) and summer(1)\n",
    "df_all.describe()"
   ]
  },
  {
   "cell_type": "code",
   "execution_count": 15,
   "id": "cb6ac484-b4b0-43cd-975f-f64a46245bce",
   "metadata": {},
   "outputs": [],
   "source": [
    "array_all = df_all.to_numpy()"
   ]
  },
  {
   "cell_type": "code",
   "execution_count": 16,
   "id": "fb3a858f-437f-4037-9f28-74846a4e3000",
   "metadata": {},
   "outputs": [
    {
     "data": {
      "text/plain": [
       "array([[4.816667, '2023-01-01', 0.031708, 5.0875, 0],\n",
       "       [4.55, '2023-01-01', 0.031708, 5.0875, 0],\n",
       "       [4.55, '2023-01-01', 0.031708, 5.0875, 0],\n",
       "       ...,\n",
       "       [18.208333, '2023-08-31', 0.025042, 19.341667, 1],\n",
       "       [20.458333, '2023-08-31', 0.025042, 19.341667, 1],\n",
       "       [20.458333, '2023-08-31', 0.025042, 19.341667, 1]], dtype=object)"
      ]
     },
     "execution_count": 16,
     "metadata": {},
     "output_type": "execute_result"
    }
   ],
   "source": [
    "array_all"
   ]
  },
  {
   "cell_type": "code",
   "execution_count": 17,
   "id": "f111ac9b-70d3-4142-a15b-9d50eec6f579",
   "metadata": {},
   "outputs": [],
   "source": [
    "Xvar = df_all[['O3','NO2','PM']].to_numpy()"
   ]
  },
  {
   "cell_type": "code",
   "execution_count": 18,
   "id": "60285170-eff4-439a-bfbe-773c1b8ee48d",
   "metadata": {},
   "outputs": [
    {
     "data": {
      "text/plain": [
       "array([[ 0.031708,  4.816667,  5.0875  ],\n",
       "       [ 0.031708,  4.55    ,  5.0875  ],\n",
       "       [ 0.031708,  4.55    ,  5.0875  ],\n",
       "       ...,\n",
       "       [ 0.025042, 18.208333, 19.341667],\n",
       "       [ 0.025042, 20.458333, 19.341667],\n",
       "       [ 0.025042, 20.458333, 19.341667]])"
      ]
     },
     "execution_count": 18,
     "metadata": {},
     "output_type": "execute_result"
    }
   ],
   "source": [
    "Xvar"
   ]
  },
  {
   "cell_type": "code",
   "execution_count": 19,
   "id": "652d0bd7-4991-4224-8293-2dba2af85463",
   "metadata": {},
   "outputs": [],
   "source": [
    "yvar = np.array(df_all['Season'])"
   ]
  },
  {
   "cell_type": "code",
   "execution_count": 20,
   "id": "589bfdbd-7b98-4a58-9226-3cde1cc55583",
   "metadata": {},
   "outputs": [
    {
     "data": {
      "text/plain": [
       "array([0, 0, 0, 0, 0, 0, 0, 0, 0, 0, 0, 0, 0, 0, 0, 0, 0, 0, 0, 0, 0, 0,\n",
       "       0, 0, 0, 0, 0, 0, 0, 0, 0, 0, 0, 0, 0, 0, 0, 0, 0, 0, 0, 0, 0, 0,\n",
       "       0, 0, 0, 0, 0, 0, 0, 0, 0, 0, 0, 0, 0, 0, 0, 0, 0, 0, 0, 0, 0, 0,\n",
       "       0, 0, 0, 0, 0, 0, 0, 0, 0, 0, 0, 0, 0, 0, 0, 0, 0, 0, 0, 0, 0, 0,\n",
       "       0, 0, 0, 0, 0, 0, 0, 0, 0, 0, 0, 0, 0, 0, 0, 0, 0, 0, 0, 0, 0, 0,\n",
       "       0, 0, 0, 0, 0, 0, 0, 0, 0, 0, 0, 0, 0, 0, 0, 0, 0, 0, 0, 0, 0, 0,\n",
       "       0, 0, 0, 0, 0, 0, 0, 0, 0, 0, 0, 0, 0, 0, 0, 0, 0, 0, 0, 0, 0, 0,\n",
       "       0, 0, 0, 0, 0, 0, 0, 0, 0, 0, 0, 0, 0, 0, 0, 0, 0, 0, 0, 0, 0, 0,\n",
       "       0, 0, 0, 0, 0, 0, 0, 0, 0, 0, 0, 0, 0, 0, 0, 0, 0, 0, 0, 0, 0, 0,\n",
       "       0, 0, 0, 0, 0, 0, 0, 0, 0, 0, 0, 0, 0, 0, 0, 0, 0, 0, 0, 0, 0, 0,\n",
       "       0, 0, 0, 0, 0, 0, 0, 0, 0, 0, 0, 0, 0, 0, 0, 0, 1, 1, 1, 1, 1, 1,\n",
       "       1, 1, 1, 1, 1, 1, 1, 1, 1, 1, 1, 1, 1, 1, 1, 1, 1, 1, 1, 1, 1, 1,\n",
       "       1, 1, 1, 1, 1, 1, 1, 1, 1, 1, 1, 1, 1, 1, 1, 1, 1, 1, 1, 1, 1, 1,\n",
       "       1, 1, 1, 1, 1, 1, 1, 1, 1, 1, 1, 1, 1, 1, 1, 1, 1, 1, 1, 1, 1, 1,\n",
       "       1, 1, 1, 1, 1, 1, 1, 1, 1, 1, 1, 1, 1, 1, 1, 1, 1, 1, 1, 1, 1, 1,\n",
       "       1, 1, 1, 1, 1, 1, 1, 1, 1, 1, 1, 1, 1, 1, 1, 1, 1, 1, 1, 1, 1, 1,\n",
       "       1, 1, 1, 1, 1, 1, 1, 1, 1, 1, 1, 1, 1, 1, 1, 1, 1, 1, 1, 1, 1, 1,\n",
       "       1, 1, 1, 1, 1, 1, 1, 1, 1, 1, 1, 1, 1, 1, 1, 1, 1, 1, 1, 1, 1, 1,\n",
       "       1, 1, 1, 1, 1, 1, 1, 1, 1, 1, 1, 1, 1, 1, 1, 1, 1, 1, 1, 1, 1, 1,\n",
       "       1, 1, 1, 1, 1, 1, 1, 1, 1, 1, 1, 1, 1, 1, 1, 1, 1, 1, 1, 1, 1, 1,\n",
       "       1, 1, 1, 1, 1, 1, 1, 1, 1, 1, 1, 1, 1, 1, 1, 1, 1, 1, 1, 1, 1, 1,\n",
       "       1, 1, 1, 1, 1, 1, 1, 1, 1, 1, 1, 1, 1, 1, 1, 1, 1, 1, 1, 1, 1, 1,\n",
       "       1, 1, 1, 1, 1, 1, 1, 1, 1, 1, 1, 1, 1, 1, 1, 1, 1, 1, 1, 1, 1, 1,\n",
       "       1, 1, 1, 1, 1, 1, 1, 1, 1, 1, 1, 1, 1, 1, 1, 1, 1, 1, 1, 1, 1, 1,\n",
       "       1, 1, 1, 1, 1, 1, 1, 1, 1, 1, 1, 1, 1, 1, 1, 1, 1, 1, 1, 1, 1, 1,\n",
       "       1, 1, 1, 1, 1, 1, 1, 1, 1, 1, 1, 1, 1, 1, 1, 1, 1, 1, 1, 1, 1, 1,\n",
       "       1, 1, 1, 1, 1, 1, 1, 1, 1, 1, 1, 1, 1, 1, 1, 1, 1, 1, 1, 1, 1, 1,\n",
       "       1, 1, 1, 1, 1, 1, 1, 1, 1, 1])"
      ]
     },
     "execution_count": 20,
     "metadata": {},
     "output_type": "execute_result"
    }
   ],
   "source": [
    "yvar"
   ]
  },
  {
   "cell_type": "markdown",
   "id": "245814b7-c249-4776-90e8-3807f15f1e01",
   "metadata": {},
   "source": [
    "### Prediction using a Ridge Classifier\n",
    "1. shown below\n",
    "2. I'm using a ridge regression, which tries to minimize (y_true - y_predicted)^2 + alpha (coefficient)^2\n",
    "3. Trained/fitted on training data and scored on trained data, the optimal ridge penalty parameter is 0\n",
    "4. Trained/fitted on training data and scored on validation data, the optimal ridge penalty parameter is 0.1\n",
    "5. I'm defining model error using the .score function, which returns R^2 or the coefficient of determination. R^2 is 1 - (regression sum of squares / residual sum of squares), so that 1 means the model accurately predicted the actual data and this accuracy decreases as the number gets closer to 0. Trained/fitted on training data, scored on test data, and with the parameter at 0.1, the score is 0.8360655737704918. 0.1 was not the optimal ridge penalty parameter for the test data, but 0.1 was chosen as it was the optimal ridge parameter when we were validating.\n",
    "6. When I split the data to 60% train, 20% validation, and 20% test, the optimal ridge penalty parameter based on training data was still 0, but there was no optimal ridge penalty paramter on validation data as the scores were the same throughout. For the final model error aka the score of the fitted model on the test data, the scores were lower for this split.\n",
    "7. For the logistic regression model, I should the same train/validation/test datasets as my first ridge regression. When comparing the logistic regression score to the ridge regression score, the logistic regression scores were higher and therefore, I think it performs better. "
   ]
  },
  {
   "cell_type": "code",
   "execution_count": 21,
   "id": "e699aa18-13c0-479d-bb09-581e372ca277",
   "metadata": {},
   "outputs": [],
   "source": [
    "from sklearn.model_selection import train_test_split"
   ]
  },
  {
   "cell_type": "code",
   "execution_count": 22,
   "id": "ec720822-0a0d-4749-aa82-b90dd2c451f8",
   "metadata": {},
   "outputs": [],
   "source": [
    "# I want 75% train, 10% test, 15% validate\n",
    "X, X_test, y, y_test = train_test_split(Xvar, yvar, test_size=0.10)\n",
    "X_train, X_val, y_train, y_val = train_test_split(X, y, test_size=0.167)"
   ]
  },
  {
   "cell_type": "code",
   "execution_count": 23,
   "id": "73cab9ad-0fa5-41f7-8051-49ddc62229f6",
   "metadata": {},
   "outputs": [
    {
     "name": "stdout",
     "output_type": "stream",
     "text": [
      "Parameter: 0.0, Score: 0.8517699115044248\n",
      "Parameter: 0.1, Score: 0.8495575221238938\n",
      "Parameter: 0.2, Score: 0.8473451327433629\n",
      "Parameter: 0.30000000000000004, Score: 0.8495575221238938\n",
      "Parameter: 0.4, Score: 0.8495575221238938\n",
      "Parameter: 0.5, Score: 0.8495575221238938\n",
      "Parameter: 0.6000000000000001, Score: 0.8495575221238938\n",
      "Parameter: 0.7000000000000001, Score: 0.8495575221238938\n",
      "Parameter: 0.8, Score: 0.8495575221238938\n",
      "Parameter: 0.9, Score: 0.8495575221238938\n",
      "Parameter: 1.0, Score: 0.8495575221238938\n"
     ]
    }
   ],
   "source": [
    "parameter = np.arange(0,1.1,0.1)\n",
    "\n",
    "for i in parameter:\n",
    "    seasonClassifier = RidgeClassifier(alpha=i)\n",
    "    seasonClassifier.fit(X_train, y_train)\n",
    "    score = seasonClassifier.score(X_train, y_train)\n",
    "    print(f'Parameter: {i}, Score: {score}')"
   ]
  },
  {
   "cell_type": "code",
   "execution_count": 24,
   "id": "8066a3bf-9a01-4b6c-b789-60533cdb7a30",
   "metadata": {},
   "outputs": [
    {
     "name": "stdout",
     "output_type": "stream",
     "text": [
      "Parameter: 0.0, Score: 0.8351648351648352\n",
      "Parameter: 0.1, Score: 0.8461538461538461\n",
      "Parameter: 0.2, Score: 0.8351648351648352\n",
      "Parameter: 0.30000000000000004, Score: 0.8351648351648352\n",
      "Parameter: 0.4, Score: 0.8351648351648352\n",
      "Parameter: 0.5, Score: 0.8351648351648352\n",
      "Parameter: 0.6000000000000001, Score: 0.8351648351648352\n",
      "Parameter: 0.7000000000000001, Score: 0.8351648351648352\n",
      "Parameter: 0.8, Score: 0.8351648351648352\n",
      "Parameter: 0.9, Score: 0.8351648351648352\n",
      "Parameter: 1.0, Score: 0.8351648351648352\n"
     ]
    }
   ],
   "source": [
    "parameter = np.arange(0,1.1,0.1)\n",
    "\n",
    "for i in parameter:\n",
    "    seasonClassifier = RidgeClassifier(alpha=i)\n",
    "    seasonClassifier.fit(X_train, y_train)\n",
    "    score = seasonClassifier.score(X_val, y_val)\n",
    "    print(f'Parameter: {i}, Score: {score}')"
   ]
  },
  {
   "cell_type": "code",
   "execution_count": 25,
   "id": "e03bd5f2-db05-4c11-bb6a-6be08be31e4f",
   "metadata": {},
   "outputs": [
    {
     "name": "stdout",
     "output_type": "stream",
     "text": [
      "Parameter: 0.0, Score: 0.8360655737704918\n",
      "Parameter: 0.1, Score: 0.8360655737704918\n",
      "Parameter: 0.2, Score: 0.8360655737704918\n",
      "Parameter: 0.30000000000000004, Score: 0.8524590163934426\n",
      "Parameter: 0.4, Score: 0.8524590163934426\n",
      "Parameter: 0.5, Score: 0.8524590163934426\n",
      "Parameter: 0.6000000000000001, Score: 0.8524590163934426\n",
      "Parameter: 0.7000000000000001, Score: 0.8524590163934426\n",
      "Parameter: 0.8, Score: 0.8524590163934426\n",
      "Parameter: 0.9, Score: 0.8524590163934426\n",
      "Parameter: 1.0, Score: 0.8524590163934426\n"
     ]
    }
   ],
   "source": [
    "parameter = np.arange(0,1.1,0.1)\n",
    "\n",
    "for i in parameter:\n",
    "    seasonClassifier = RidgeClassifier(alpha=i)\n",
    "    seasonClassifier.fit(X_train, y_train)\n",
    "    score = seasonClassifier.score(X_test, y_test)\n",
    "    print(f'Parameter: {i}, Score: {score}')"
   ]
  },
  {
   "cell_type": "code",
   "execution_count": 26,
   "id": "4ce0b483-f9b3-4b6b-9fcd-bd7af2759d44",
   "metadata": {},
   "outputs": [
    {
     "name": "stdout",
     "output_type": "stream",
     "text": [
      "Parameter: 0.0, Score: 0.847682119205298\n",
      "Parameter: 0.1, Score: 0.847682119205298\n",
      "Parameter: 0.2, Score: 0.8443708609271523\n",
      "Parameter: 0.30000000000000004, Score: 0.847682119205298\n",
      "Parameter: 0.4, Score: 0.847682119205298\n",
      "Parameter: 0.5, Score: 0.847682119205298\n",
      "Parameter: 0.6000000000000001, Score: 0.847682119205298\n",
      "Parameter: 0.7000000000000001, Score: 0.847682119205298\n",
      "Parameter: 0.8, Score: 0.847682119205298\n",
      "Parameter: 0.9, Score: 0.847682119205298\n",
      "Parameter: 1.0, Score: 0.847682119205298\n"
     ]
    }
   ],
   "source": [
    "parameter = np.arange(0,1.1,0.1)\n",
    "\n",
    "for i in parameter:\n",
    "    seasonClassifier = RidgeClassifier(alpha=i)\n",
    "    seasonClassifier.fit(X_train, y_train)\n",
    "    score = seasonClassifier.score(Xvar, yvar)\n",
    "    print(f'Parameter: {i}, Score: {score}')"
   ]
  },
  {
   "cell_type": "markdown",
   "id": "6f90f25b-a07e-4a23-920b-426fc7882c1c",
   "metadata": {},
   "source": [
    "### Redoing Train/Validation/Test Splits"
   ]
  },
  {
   "cell_type": "code",
   "execution_count": 27,
   "id": "2bddca59-690e-4767-a3f8-17e039ac6cb0",
   "metadata": {},
   "outputs": [],
   "source": [
    "# I want 60% train, 20% test, 20% validate\n",
    "X1, X_test1, y1, y_test1 = train_test_split(Xvar, yvar, test_size=0.20)\n",
    "X_train1, X_val1, y_train1, y_val1 = train_test_split(X1, y1, test_size=0.25)"
   ]
  },
  {
   "cell_type": "code",
   "execution_count": 28,
   "id": "4527dd04-6982-4989-9b56-f278533ac623",
   "metadata": {},
   "outputs": [
    {
     "name": "stdout",
     "output_type": "stream",
     "text": [
      "Parameter: 0.0, Score: 0.8425414364640884\n",
      "Parameter: 0.1, Score: 0.8342541436464088\n",
      "Parameter: 0.2, Score: 0.8342541436464088\n",
      "Parameter: 0.30000000000000004, Score: 0.8342541436464088\n",
      "Parameter: 0.4, Score: 0.8342541436464088\n",
      "Parameter: 0.5, Score: 0.8342541436464088\n",
      "Parameter: 0.6000000000000001, Score: 0.8314917127071824\n",
      "Parameter: 0.7000000000000001, Score: 0.8314917127071824\n",
      "Parameter: 0.8, Score: 0.8314917127071824\n",
      "Parameter: 0.9, Score: 0.8314917127071824\n",
      "Parameter: 1.0, Score: 0.8314917127071824\n"
     ]
    }
   ],
   "source": [
    "parameter = np.arange(0,1.1,0.1)\n",
    "\n",
    "for i in parameter:\n",
    "    seasonClassifier = RidgeClassifier(alpha=i)\n",
    "    seasonClassifier.fit(X_train1, y_train1)\n",
    "    score = seasonClassifier.score(X_train1, y_train1)\n",
    "    print(f'Parameter: {i}, Score: {score}')"
   ]
  },
  {
   "cell_type": "code",
   "execution_count": 29,
   "id": "d50169df-d68b-40b3-8064-3b0ce8c2be30",
   "metadata": {},
   "outputs": [
    {
     "name": "stdout",
     "output_type": "stream",
     "text": [
      "Parameter: 0.0, Score: 0.9008264462809917\n",
      "Parameter: 0.1, Score: 0.9008264462809917\n",
      "Parameter: 0.2, Score: 0.9008264462809917\n",
      "Parameter: 0.30000000000000004, Score: 0.9008264462809917\n",
      "Parameter: 0.4, Score: 0.9008264462809917\n",
      "Parameter: 0.5, Score: 0.9008264462809917\n",
      "Parameter: 0.6000000000000001, Score: 0.9008264462809917\n",
      "Parameter: 0.7000000000000001, Score: 0.9008264462809917\n",
      "Parameter: 0.8, Score: 0.9008264462809917\n",
      "Parameter: 0.9, Score: 0.9008264462809917\n",
      "Parameter: 1.0, Score: 0.9008264462809917\n"
     ]
    }
   ],
   "source": [
    "parameter = np.arange(0,1.1,0.1)\n",
    "\n",
    "for i in parameter:\n",
    "    seasonClassifier = RidgeClassifier(alpha=i)\n",
    "    seasonClassifier.fit(X_train1, y_train1)\n",
    "    score = seasonClassifier.score(X_val1, y_val1)\n",
    "    print(f'Parameter: {i}, Score: {score}')"
   ]
  },
  {
   "cell_type": "code",
   "execution_count": 30,
   "id": "64c5bbb1-7423-49f2-a8e0-de5bad578204",
   "metadata": {},
   "outputs": [
    {
     "name": "stdout",
     "output_type": "stream",
     "text": [
      "Parameter: 0.0, Score: 0.8264462809917356\n",
      "Parameter: 0.1, Score: 0.8347107438016529\n",
      "Parameter: 0.2, Score: 0.8347107438016529\n",
      "Parameter: 0.30000000000000004, Score: 0.8347107438016529\n",
      "Parameter: 0.4, Score: 0.8347107438016529\n",
      "Parameter: 0.5, Score: 0.8347107438016529\n",
      "Parameter: 0.6000000000000001, Score: 0.8264462809917356\n",
      "Parameter: 0.7000000000000001, Score: 0.8264462809917356\n",
      "Parameter: 0.8, Score: 0.8264462809917356\n",
      "Parameter: 0.9, Score: 0.8264462809917356\n",
      "Parameter: 1.0, Score: 0.8264462809917356\n"
     ]
    }
   ],
   "source": [
    "parameter = np.arange(0,1.1,0.1)\n",
    "\n",
    "for i in parameter:\n",
    "    seasonClassifier = RidgeClassifier(alpha=i)\n",
    "    seasonClassifier.fit(X_train1, y_train1)\n",
    "    score = seasonClassifier.score(X_test1, y_test1)\n",
    "    print(f'Parameter: {i}, Score: {score}')"
   ]
  },
  {
   "cell_type": "code",
   "execution_count": 32,
   "id": "bbaa0e4e-3737-4b0e-aba9-1a2869959937",
   "metadata": {},
   "outputs": [
    {
     "name": "stdout",
     "output_type": "stream",
     "text": [
      "Parameter: 0.0, Score: 0.8509933774834437\n",
      "Parameter: 0.1, Score: 0.847682119205298\n",
      "Parameter: 0.2, Score: 0.847682119205298\n",
      "Parameter: 0.30000000000000004, Score: 0.847682119205298\n",
      "Parameter: 0.4, Score: 0.847682119205298\n",
      "Parameter: 0.5, Score: 0.847682119205298\n",
      "Parameter: 0.6000000000000001, Score: 0.8443708609271523\n",
      "Parameter: 0.7000000000000001, Score: 0.8443708609271523\n",
      "Parameter: 0.8, Score: 0.8443708609271523\n",
      "Parameter: 0.9, Score: 0.8443708609271523\n",
      "Parameter: 1.0, Score: 0.8443708609271523\n"
     ]
    }
   ],
   "source": [
    "parameter = np.arange(0,1.1,0.1)\n",
    "\n",
    "for i in parameter:\n",
    "    seasonClassifier = RidgeClassifier(alpha=i)\n",
    "    seasonClassifier.fit(X_train1, y_train1)\n",
    "    score = seasonClassifier.score(Xvar, yvar)\n",
    "    print(f'Parameter: {i}, Score: {score}')"
   ]
  },
  {
   "cell_type": "markdown",
   "id": "fc490a9a-daad-4ff5-864c-0e9434f2b1a4",
   "metadata": {},
   "source": [
    "### Prediction using Logistic Regression"
   ]
  },
  {
   "cell_type": "code",
   "execution_count": 33,
   "id": "b850456a-a1f3-4d73-9da0-ff9570490ccb",
   "metadata": {},
   "outputs": [],
   "source": [
    "from sklearn.linear_model import LogisticRegression"
   ]
  },
  {
   "cell_type": "code",
   "execution_count": 34,
   "id": "7be34c9f-ecec-4802-9b74-449933a64cfb",
   "metadata": {},
   "outputs": [
    {
     "name": "stdout",
     "output_type": "stream",
     "text": [
      "0.8716814159292036\n"
     ]
    }
   ],
   "source": [
    "LogReg = LogisticRegression()\n",
    "LogReg.fit(X_train, y_train)\n",
    "score = LogReg.score(X_train, y_train)\n",
    "print(score)"
   ]
  },
  {
   "cell_type": "code",
   "execution_count": 35,
   "id": "b06eb7d1-4265-416e-a1ef-e54656effad4",
   "metadata": {},
   "outputs": [
    {
     "name": "stdout",
     "output_type": "stream",
     "text": [
      "0.8571428571428571\n"
     ]
    }
   ],
   "source": [
    "LogReg = LogisticRegression()\n",
    "LogReg.fit(X_train, y_train)\n",
    "score = LogReg.score(X_val, y_val)\n",
    "print(score)"
   ]
  },
  {
   "cell_type": "code",
   "execution_count": 36,
   "id": "1302ed6b-a0a8-43c9-93cb-7bd069c33600",
   "metadata": {},
   "outputs": [
    {
     "name": "stdout",
     "output_type": "stream",
     "text": [
      "0.8852459016393442\n"
     ]
    }
   ],
   "source": [
    "LogReg = LogisticRegression()\n",
    "LogReg.fit(X_train, y_train)\n",
    "score = LogReg.score(X_test, y_test)\n",
    "print(score)"
   ]
  },
  {
   "cell_type": "code",
   "execution_count": 37,
   "id": "8f6fcaa8-5376-4d89-9662-7787f9cbaa4d",
   "metadata": {},
   "outputs": [
    {
     "name": "stdout",
     "output_type": "stream",
     "text": [
      "0.8708609271523179\n"
     ]
    }
   ],
   "source": [
    "LogReg = LogisticRegression()\n",
    "LogReg.fit(X_train, y_train)\n",
    "score = LogReg.score(Xvar, yvar)\n",
    "print(score)"
   ]
  },
  {
   "cell_type": "code",
   "execution_count": null,
   "id": "5b1a7856-9554-4e4e-a28d-4bbc9e074355",
   "metadata": {},
   "outputs": [],
   "source": []
  }
 ],
 "metadata": {
  "kernelspec": {
   "display_name": "Python 3 (ipykernel)",
   "language": "python",
   "name": "python3"
  },
  "language_info": {
   "codemirror_mode": {
    "name": "ipython",
    "version": 3
   },
   "file_extension": ".py",
   "mimetype": "text/x-python",
   "name": "python",
   "nbconvert_exporter": "python",
   "pygments_lexer": "ipython3",
   "version": "3.12.0"
  }
 },
 "nbformat": 4,
 "nbformat_minor": 5
}
