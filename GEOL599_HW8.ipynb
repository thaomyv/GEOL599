{
 "cells": [
  {
   "cell_type": "code",
   "execution_count": 2,
   "id": "67a41e93-ede7-4a25-b8d3-426f8c500b42",
   "metadata": {},
   "outputs": [],
   "source": [
    "import pandas as pd\n",
    "import numpy as np\n",
    "from matplotlib import pyplot as plt\n",
    "import seaborn as sns\n",
    "from sklearn import linear_model\n",
    "from sklearn.linear_model import RidgeClassifier\n",
    "from sklearn import tree\n",
    "from sklearn.tree import DecisionTreeRegressor"
   ]
  },
  {
   "cell_type": "code",
   "execution_count": 11,
   "id": "8c796824-8f37-4116-8510-dc7ea627c9fa",
   "metadata": {},
   "outputs": [
    {
     "name": "stderr",
     "output_type": "stream",
     "text": [
      "<>:1: SyntaxWarning: invalid escape sequence '\\s'\n",
      "<>:1: SyntaxWarning: invalid escape sequence '\\s'\n",
      "C:\\Users\\Thaomy\\AppData\\Local\\Temp\\ipykernel_23604\\4131130105.py:1: SyntaxWarning: invalid escape sequence '\\s'\n",
      "  df = pd.read_csv('Waves_2023.txt', sep='\\s+') # , delim_whitespace=True will be depreciated in future versions\n"
     ]
    }
   ],
   "source": [
    "df = pd.read_csv('Waves_2023.txt', sep='\\s+') # , delim_whitespace=True will be depreciated in future versions"
   ]
  },
  {
   "cell_type": "code",
   "execution_count": 12,
   "id": "ab67dee4-4e6c-46ae-81f4-cda962530d00",
   "metadata": {},
   "outputs": [
    {
     "data": {
      "text/html": [
       "<div>\n",
       "<style scoped>\n",
       "    .dataframe tbody tr th:only-of-type {\n",
       "        vertical-align: middle;\n",
       "    }\n",
       "\n",
       "    .dataframe tbody tr th {\n",
       "        vertical-align: top;\n",
       "    }\n",
       "\n",
       "    .dataframe thead th {\n",
       "        text-align: right;\n",
       "    }\n",
       "</style>\n",
       "<table border=\"1\" class=\"dataframe\">\n",
       "  <thead>\n",
       "    <tr style=\"text-align: right;\">\n",
       "      <th></th>\n",
       "      <th>YY</th>\n",
       "      <th>MM</th>\n",
       "      <th>DD</th>\n",
       "      <th>hh</th>\n",
       "      <th>mm</th>\n",
       "      <th>WDIR</th>\n",
       "      <th>WSPD</th>\n",
       "      <th>GST</th>\n",
       "      <th>WVHT</th>\n",
       "      <th>DPD</th>\n",
       "      <th>APD</th>\n",
       "      <th>MWD</th>\n",
       "      <th>PRES</th>\n",
       "      <th>ATMP</th>\n",
       "      <th>WTMP</th>\n",
       "      <th>DEWP</th>\n",
       "      <th>VIS</th>\n",
       "      <th>TIDE</th>\n",
       "    </tr>\n",
       "  </thead>\n",
       "  <tbody>\n",
       "    <tr>\n",
       "      <th>0</th>\n",
       "      <td>2023</td>\n",
       "      <td>1</td>\n",
       "      <td>1</td>\n",
       "      <td>0</td>\n",
       "      <td>26</td>\n",
       "      <td>999</td>\n",
       "      <td>99.0</td>\n",
       "      <td>99.0</td>\n",
       "      <td>1.12</td>\n",
       "      <td>12.50</td>\n",
       "      <td>7.69</td>\n",
       "      <td>269</td>\n",
       "      <td>9999.0</td>\n",
       "      <td>999.0</td>\n",
       "      <td>15.3</td>\n",
       "      <td>999.0</td>\n",
       "      <td>99.0</td>\n",
       "      <td>99.0</td>\n",
       "    </tr>\n",
       "    <tr>\n",
       "      <th>1</th>\n",
       "      <td>2023</td>\n",
       "      <td>1</td>\n",
       "      <td>1</td>\n",
       "      <td>0</td>\n",
       "      <td>56</td>\n",
       "      <td>999</td>\n",
       "      <td>99.0</td>\n",
       "      <td>99.0</td>\n",
       "      <td>1.16</td>\n",
       "      <td>11.76</td>\n",
       "      <td>7.34</td>\n",
       "      <td>272</td>\n",
       "      <td>9999.0</td>\n",
       "      <td>999.0</td>\n",
       "      <td>15.3</td>\n",
       "      <td>999.0</td>\n",
       "      <td>99.0</td>\n",
       "      <td>99.0</td>\n",
       "    </tr>\n",
       "    <tr>\n",
       "      <th>2</th>\n",
       "      <td>2023</td>\n",
       "      <td>1</td>\n",
       "      <td>1</td>\n",
       "      <td>1</td>\n",
       "      <td>26</td>\n",
       "      <td>999</td>\n",
       "      <td>99.0</td>\n",
       "      <td>99.0</td>\n",
       "      <td>1.20</td>\n",
       "      <td>12.50</td>\n",
       "      <td>7.08</td>\n",
       "      <td>268</td>\n",
       "      <td>9999.0</td>\n",
       "      <td>999.0</td>\n",
       "      <td>15.3</td>\n",
       "      <td>999.0</td>\n",
       "      <td>99.0</td>\n",
       "      <td>99.0</td>\n",
       "    </tr>\n",
       "    <tr>\n",
       "      <th>3</th>\n",
       "      <td>2023</td>\n",
       "      <td>1</td>\n",
       "      <td>1</td>\n",
       "      <td>1</td>\n",
       "      <td>56</td>\n",
       "      <td>999</td>\n",
       "      <td>99.0</td>\n",
       "      <td>99.0</td>\n",
       "      <td>1.25</td>\n",
       "      <td>10.53</td>\n",
       "      <td>7.33</td>\n",
       "      <td>268</td>\n",
       "      <td>9999.0</td>\n",
       "      <td>999.0</td>\n",
       "      <td>15.4</td>\n",
       "      <td>999.0</td>\n",
       "      <td>99.0</td>\n",
       "      <td>99.0</td>\n",
       "    </tr>\n",
       "    <tr>\n",
       "      <th>4</th>\n",
       "      <td>2023</td>\n",
       "      <td>1</td>\n",
       "      <td>1</td>\n",
       "      <td>2</td>\n",
       "      <td>26</td>\n",
       "      <td>999</td>\n",
       "      <td>99.0</td>\n",
       "      <td>99.0</td>\n",
       "      <td>1.27</td>\n",
       "      <td>10.53</td>\n",
       "      <td>7.57</td>\n",
       "      <td>268</td>\n",
       "      <td>9999.0</td>\n",
       "      <td>999.0</td>\n",
       "      <td>15.5</td>\n",
       "      <td>999.0</td>\n",
       "      <td>99.0</td>\n",
       "      <td>99.0</td>\n",
       "    </tr>\n",
       "    <tr>\n",
       "      <th>...</th>\n",
       "      <td>...</td>\n",
       "      <td>...</td>\n",
       "      <td>...</td>\n",
       "      <td>...</td>\n",
       "      <td>...</td>\n",
       "      <td>...</td>\n",
       "      <td>...</td>\n",
       "      <td>...</td>\n",
       "      <td>...</td>\n",
       "      <td>...</td>\n",
       "      <td>...</td>\n",
       "      <td>...</td>\n",
       "      <td>...</td>\n",
       "      <td>...</td>\n",
       "      <td>...</td>\n",
       "      <td>...</td>\n",
       "      <td>...</td>\n",
       "      <td>...</td>\n",
       "    </tr>\n",
       "    <tr>\n",
       "      <th>17280</th>\n",
       "      <td>2023</td>\n",
       "      <td>12</td>\n",
       "      <td>31</td>\n",
       "      <td>21</td>\n",
       "      <td>56</td>\n",
       "      <td>999</td>\n",
       "      <td>99.0</td>\n",
       "      <td>99.0</td>\n",
       "      <td>2.01</td>\n",
       "      <td>14.29</td>\n",
       "      <td>11.19</td>\n",
       "      <td>270</td>\n",
       "      <td>9999.0</td>\n",
       "      <td>999.0</td>\n",
       "      <td>16.7</td>\n",
       "      <td>999.0</td>\n",
       "      <td>99.0</td>\n",
       "      <td>99.0</td>\n",
       "    </tr>\n",
       "    <tr>\n",
       "      <th>17281</th>\n",
       "      <td>2023</td>\n",
       "      <td>12</td>\n",
       "      <td>31</td>\n",
       "      <td>22</td>\n",
       "      <td>26</td>\n",
       "      <td>999</td>\n",
       "      <td>99.0</td>\n",
       "      <td>99.0</td>\n",
       "      <td>1.75</td>\n",
       "      <td>15.38</td>\n",
       "      <td>10.37</td>\n",
       "      <td>267</td>\n",
       "      <td>9999.0</td>\n",
       "      <td>999.0</td>\n",
       "      <td>16.7</td>\n",
       "      <td>999.0</td>\n",
       "      <td>99.0</td>\n",
       "      <td>99.0</td>\n",
       "    </tr>\n",
       "    <tr>\n",
       "      <th>17282</th>\n",
       "      <td>2023</td>\n",
       "      <td>12</td>\n",
       "      <td>31</td>\n",
       "      <td>22</td>\n",
       "      <td>56</td>\n",
       "      <td>999</td>\n",
       "      <td>99.0</td>\n",
       "      <td>99.0</td>\n",
       "      <td>1.79</td>\n",
       "      <td>13.33</td>\n",
       "      <td>10.50</td>\n",
       "      <td>268</td>\n",
       "      <td>9999.0</td>\n",
       "      <td>999.0</td>\n",
       "      <td>16.8</td>\n",
       "      <td>999.0</td>\n",
       "      <td>99.0</td>\n",
       "      <td>99.0</td>\n",
       "    </tr>\n",
       "    <tr>\n",
       "      <th>17283</th>\n",
       "      <td>2023</td>\n",
       "      <td>12</td>\n",
       "      <td>31</td>\n",
       "      <td>23</td>\n",
       "      <td>26</td>\n",
       "      <td>999</td>\n",
       "      <td>99.0</td>\n",
       "      <td>99.0</td>\n",
       "      <td>1.66</td>\n",
       "      <td>14.29</td>\n",
       "      <td>10.32</td>\n",
       "      <td>271</td>\n",
       "      <td>9999.0</td>\n",
       "      <td>999.0</td>\n",
       "      <td>16.8</td>\n",
       "      <td>999.0</td>\n",
       "      <td>99.0</td>\n",
       "      <td>99.0</td>\n",
       "    </tr>\n",
       "    <tr>\n",
       "      <th>17284</th>\n",
       "      <td>2023</td>\n",
       "      <td>12</td>\n",
       "      <td>31</td>\n",
       "      <td>23</td>\n",
       "      <td>56</td>\n",
       "      <td>999</td>\n",
       "      <td>99.0</td>\n",
       "      <td>99.0</td>\n",
       "      <td>1.70</td>\n",
       "      <td>12.50</td>\n",
       "      <td>10.54</td>\n",
       "      <td>271</td>\n",
       "      <td>9999.0</td>\n",
       "      <td>999.0</td>\n",
       "      <td>16.9</td>\n",
       "      <td>999.0</td>\n",
       "      <td>99.0</td>\n",
       "      <td>99.0</td>\n",
       "    </tr>\n",
       "  </tbody>\n",
       "</table>\n",
       "<p>17285 rows × 18 columns</p>\n",
       "</div>"
      ],
      "text/plain": [
       "         YY  MM  DD  hh  mm  WDIR  WSPD   GST  WVHT    DPD    APD  MWD  \\\n",
       "0      2023   1   1   0  26   999  99.0  99.0  1.12  12.50   7.69  269   \n",
       "1      2023   1   1   0  56   999  99.0  99.0  1.16  11.76   7.34  272   \n",
       "2      2023   1   1   1  26   999  99.0  99.0  1.20  12.50   7.08  268   \n",
       "3      2023   1   1   1  56   999  99.0  99.0  1.25  10.53   7.33  268   \n",
       "4      2023   1   1   2  26   999  99.0  99.0  1.27  10.53   7.57  268   \n",
       "...     ...  ..  ..  ..  ..   ...   ...   ...   ...    ...    ...  ...   \n",
       "17280  2023  12  31  21  56   999  99.0  99.0  2.01  14.29  11.19  270   \n",
       "17281  2023  12  31  22  26   999  99.0  99.0  1.75  15.38  10.37  267   \n",
       "17282  2023  12  31  22  56   999  99.0  99.0  1.79  13.33  10.50  268   \n",
       "17283  2023  12  31  23  26   999  99.0  99.0  1.66  14.29  10.32  271   \n",
       "17284  2023  12  31  23  56   999  99.0  99.0  1.70  12.50  10.54  271   \n",
       "\n",
       "         PRES   ATMP  WTMP   DEWP   VIS  TIDE  \n",
       "0      9999.0  999.0  15.3  999.0  99.0  99.0  \n",
       "1      9999.0  999.0  15.3  999.0  99.0  99.0  \n",
       "2      9999.0  999.0  15.3  999.0  99.0  99.0  \n",
       "3      9999.0  999.0  15.4  999.0  99.0  99.0  \n",
       "4      9999.0  999.0  15.5  999.0  99.0  99.0  \n",
       "...       ...    ...   ...    ...   ...   ...  \n",
       "17280  9999.0  999.0  16.7  999.0  99.0  99.0  \n",
       "17281  9999.0  999.0  16.7  999.0  99.0  99.0  \n",
       "17282  9999.0  999.0  16.8  999.0  99.0  99.0  \n",
       "17283  9999.0  999.0  16.8  999.0  99.0  99.0  \n",
       "17284  9999.0  999.0  16.9  999.0  99.0  99.0  \n",
       "\n",
       "[17285 rows x 18 columns]"
      ]
     },
     "execution_count": 12,
     "metadata": {},
     "output_type": "execute_result"
    }
   ],
   "source": [
    "df"
   ]
  },
  {
   "cell_type": "code",
   "execution_count": 13,
   "id": "94f595f7-affb-4d55-977c-c6dcaaf29a81",
   "metadata": {},
   "outputs": [],
   "source": [
    "Xvar = df[['DPD','APD','MWD','WTMP']].to_numpy()"
   ]
  },
  {
   "cell_type": "code",
   "execution_count": 14,
   "id": "3c65eba7-806f-439c-b83f-883f31e2a841",
   "metadata": {},
   "outputs": [
    {
     "data": {
      "text/plain": [
       "array([[ 12.5 ,   7.69, 269.  ,  15.3 ],\n",
       "       [ 11.76,   7.34, 272.  ,  15.3 ],\n",
       "       [ 12.5 ,   7.08, 268.  ,  15.3 ],\n",
       "       ...,\n",
       "       [ 13.33,  10.5 , 268.  ,  16.8 ],\n",
       "       [ 14.29,  10.32, 271.  ,  16.8 ],\n",
       "       [ 12.5 ,  10.54, 271.  ,  16.9 ]])"
      ]
     },
     "execution_count": 14,
     "metadata": {},
     "output_type": "execute_result"
    }
   ],
   "source": [
    "Xvar"
   ]
  },
  {
   "cell_type": "code",
   "execution_count": 15,
   "id": "4475f9c1-9bb5-4672-bf45-0f04014c3366",
   "metadata": {},
   "outputs": [],
   "source": [
    "yvar = np.array(df['WVHT'])"
   ]
  },
  {
   "cell_type": "code",
   "execution_count": 16,
   "id": "0e525fbc-32cf-458e-827c-ceb36de43a0c",
   "metadata": {},
   "outputs": [
    {
     "data": {
      "text/plain": [
       "array([1.12, 1.16, 1.2 , ..., 1.79, 1.66, 1.7 ])"
      ]
     },
     "execution_count": 16,
     "metadata": {},
     "output_type": "execute_result"
    }
   ],
   "source": [
    "yvar"
   ]
  },
  {
   "cell_type": "markdown",
   "id": "5c20d93c-0797-4f6e-a6a5-47c40d0bc19a",
   "metadata": {},
   "source": [
    "### Questions and Answers\n",
    "1. Both the decision tree regressor and random forest regressor produced much smaller errors on training, validation, and test datasets than the baseline linear regression model. The random forest regressor had the best performance, with mean squared errors of 0.02999422812928174, \n",
    "0.02863739750848991, and \n",
    "0.0260359739624959 for training, validation, and test dataset respectively. This is nearly one order of magnitude smaller than the MSE of the decision tree regressor and nearly two order of magnitude smaller than the MSE of the linear model.\n",
    "2. The cost function of LinearRegression is Ordinary Least Squares (OLS). The cost function of both DecisionTreeRegressor and RandomForestRegressor is squared_error of the Mean Squared Error (MSE).\n",
    "3. For the decision tree regressor, I chose a max depth of 5. For the random forest regressor, I chose 25 estimators of \"trees\".\n",
    "4. After redoing the splits, the mean squared errors are slightly different but the random forest regressor remained the best model with the lowest MSE.\n",
    "5. graph at the very bottom\n",
    "6. I do not have evidence of overfitting because the difference between the training error and the validation error stays the same as the number of trees increase. If overfitting did occur, we would expect this difference to increase as the training error decreases to near zero and the validation error grows bigger."
   ]
  },
  {
   "cell_type": "code",
   "execution_count": 18,
   "id": "18063326-87f6-4981-8dbd-eff83d6baef9",
   "metadata": {},
   "outputs": [],
   "source": [
    "from sklearn.model_selection import train_test_split"
   ]
  },
  {
   "cell_type": "code",
   "execution_count": 19,
   "id": "3a7edca8-add4-4195-94d6-728806c679ce",
   "metadata": {},
   "outputs": [],
   "source": [
    "# I want 75% train, 10% test, 15% validate\n",
    "X, X_test, y, y_test = train_test_split(Xvar, yvar, test_size=0.10)\n",
    "X_train, X_val, y_train, y_val = train_test_split(X, y, test_size=0.167)"
   ]
  },
  {
   "cell_type": "code",
   "execution_count": 42,
   "id": "dd1f2169-c1a3-44e5-9a8e-bd5ec8efd22d",
   "metadata": {},
   "outputs": [],
   "source": [
    "from sklearn.metrics import mean_squared_error"
   ]
  },
  {
   "cell_type": "markdown",
   "id": "6b34ec75-e0e0-493d-8138-4091f109c053",
   "metadata": {},
   "source": [
    "### Baseline: Linear Model"
   ]
  },
  {
   "cell_type": "code",
   "execution_count": 44,
   "id": "3ef1a0a5-e153-4753-85d6-15c262293dd7",
   "metadata": {},
   "outputs": [
    {
     "name": "stdout",
     "output_type": "stream",
     "text": [
      "1.826060335313907\n",
      "1.6831208553117007\n",
      "1.8858838084414273\n"
     ]
    }
   ],
   "source": [
    "linear = linear_model.LinearRegression()\n",
    "linear.fit(X_train, y_train)\n",
    "y_train_pred = linear.predict(X_train)\n",
    "y_val_pred = linear.predict(X_val)\n",
    "y_test_pred = linear.predict(X_test)\n",
    "print(mean_squared_error(y_train, y_train_pred))\n",
    "print(mean_squared_error(y_val, y_val_pred))\n",
    "print(mean_squared_error(y_test, y_test_pred))"
   ]
  },
  {
   "cell_type": "markdown",
   "id": "36c9db43-b3c8-4536-a536-ff48fff68cb4",
   "metadata": {},
   "source": [
    "### Decision Tree Regressor"
   ]
  },
  {
   "cell_type": "code",
   "execution_count": 64,
   "id": "ded57160-c8eb-4355-ad94-ebfa541b0ed1",
   "metadata": {},
   "outputs": [
    {
     "name": "stdout",
     "output_type": "stream",
     "text": [
      "0.1396828949541227\n",
      "0.15542385028895736\n",
      "0.13946166456630998\n"
     ]
    }
   ],
   "source": [
    "tree = DecisionTreeRegressor(max_depth=5)\n",
    "tree.fit(X_train, y_train)\n",
    "y_train_pred = tree.predict(X_train)\n",
    "y_val_pred = tree.predict(X_val)\n",
    "y_test_pred = tree.predict(X_test)\n",
    "print(mean_squared_error(y_train, y_train_pred))\n",
    "print(mean_squared_error(y_val, y_val_pred))\n",
    "print(mean_squared_error(y_test, y_test_pred))"
   ]
  },
  {
   "cell_type": "code",
   "execution_count": 65,
   "id": "b695df2c-4079-405c-b661-4cf7aa522599",
   "metadata": {},
   "outputs": [
    {
     "name": "stdout",
     "output_type": "stream",
     "text": [
      "0.22938583714828678\n",
      "0.234046300799712\n",
      "0.22545303334227906\n"
     ]
    }
   ],
   "source": [
    "tree1 = DecisionTreeRegressor(max_depth=2)\n",
    "tree1.fit(X_train, y_train)\n",
    "y_train_pred = tree1.predict(X_train)\n",
    "y_val_pred = tree1.predict(X_val)\n",
    "y_test_pred = tree1.predict(X_test)\n",
    "print(mean_squared_error(y_train, y_train_pred))\n",
    "print(mean_squared_error(y_val, y_val_pred))\n",
    "print(mean_squared_error(y_test, y_test_pred))"
   ]
  },
  {
   "cell_type": "code",
   "execution_count": 66,
   "id": "8cac98a0-842a-4b03-b48d-18e020018a36",
   "metadata": {},
   "outputs": [
    {
     "name": "stdout",
     "output_type": "stream",
     "text": [
      "3.353526778823893e-05\n",
      "0.15496204772902233\n",
      "0.1809532099479468\n"
     ]
    }
   ],
   "source": [
    "tree2 = DecisionTreeRegressor()\n",
    "tree2.fit(X_train, y_train)\n",
    "y_train_pred = tree2.predict(X_train)\n",
    "y_val_pred = tree2.predict(X_val)\n",
    "y_test_pred = tree2.predict(X_test)\n",
    "print(mean_squared_error(y_train, y_train_pred))\n",
    "print(mean_squared_error(y_val, y_val_pred))\n",
    "print(mean_squared_error(y_test, y_test_pred))"
   ]
  },
  {
   "cell_type": "markdown",
   "id": "48fa6337-1630-42db-a7dc-bfc53ec0f7c9",
   "metadata": {},
   "source": [
    "### Random Forest Regressor"
   ]
  },
  {
   "cell_type": "code",
   "execution_count": 25,
   "id": "b1ecf478-6e64-4329-944c-5850ed86c279",
   "metadata": {},
   "outputs": [],
   "source": [
    "from sklearn.ensemble import RandomForestRegressor"
   ]
  },
  {
   "cell_type": "code",
   "execution_count": 48,
   "id": "f73f7c87-56d6-4e35-931f-3aa3f66301e8",
   "metadata": {},
   "outputs": [
    {
     "name": "stdout",
     "output_type": "stream",
     "text": [
      "0.012816078894104972\n",
      "0.08320513793331623\n",
      "0.07596833029262902\n"
     ]
    }
   ],
   "source": [
    "forest = RandomForestRegressor(n_estimators=25)\n",
    "forest.fit(X_train, y_train)\n",
    "y_train_pred = forest.predict(X_train)\n",
    "y_val_pred = forest.predict(X_val)\n",
    "y_test_pred = forest.predict(X_test)\n",
    "print(mean_squared_error(y_train, y_train_pred))\n",
    "print(mean_squared_error(y_val, y_val_pred))\n",
    "print(mean_squared_error(y_test, y_test_pred))"
   ]
  },
  {
   "cell_type": "markdown",
   "id": "8569e03a-7c7e-45d1-8a20-deaa0ce9e339",
   "metadata": {},
   "source": [
    "### Redoing the Splits"
   ]
  },
  {
   "cell_type": "code",
   "execution_count": 31,
   "id": "90cc1adb-612f-4963-adf5-b41f9748275e",
   "metadata": {},
   "outputs": [],
   "source": [
    "X1, X_test1, y1, y_test1 = train_test_split(Xvar, yvar, test_size=0.10)\n",
    "X_train1, X_val1, y_train1, y_val1 = train_test_split(X1, y1, test_size=0.167)"
   ]
  },
  {
   "cell_type": "code",
   "execution_count": 49,
   "id": "e60a4b30-1e9d-4dab-80be-a6a7cbd87dbd",
   "metadata": {},
   "outputs": [
    {
     "name": "stdout",
     "output_type": "stream",
     "text": [
      "1.8752316213640245\n",
      "1.6359929782286622\n",
      "1.9439430328019809\n"
     ]
    }
   ],
   "source": [
    "linear = linear_model.LinearRegression()\n",
    "linear.fit(X_train1, y_train1)\n",
    "y_train_pred = linear.predict(X_train)\n",
    "y_val_pred = linear.predict(X_val)\n",
    "y_test_pred = linear.predict(X_test)\n",
    "print(mean_squared_error(y_train, y_train_pred))\n",
    "print(mean_squared_error(y_val, y_val_pred))\n",
    "print(mean_squared_error(y_test, y_test_pred))"
   ]
  },
  {
   "cell_type": "code",
   "execution_count": 50,
   "id": "62e2bb2b-4a74-4b2d-b4d5-7f3af47fe18d",
   "metadata": {},
   "outputs": [
    {
     "name": "stdout",
     "output_type": "stream",
     "text": [
      "0.14030853399727375\n",
      "0.14945252986276025\n",
      "0.13668542544824405\n"
     ]
    }
   ],
   "source": [
    "tree = DecisionTreeRegressor(max_depth=5)\n",
    "tree.fit(X_train1, y_train1)\n",
    "y_train_pred = tree.predict(X_train)\n",
    "y_val_pred = tree.predict(X_val)\n",
    "y_test_pred = tree.predict(X_test)\n",
    "print(mean_squared_error(y_train, y_train_pred))\n",
    "print(mean_squared_error(y_val, y_val_pred))\n",
    "print(mean_squared_error(y_test, y_test_pred))"
   ]
  },
  {
   "cell_type": "code",
   "execution_count": 51,
   "id": "bd4fc872-46b8-44b0-8106-5cebd222717d",
   "metadata": {},
   "outputs": [
    {
     "name": "stdout",
     "output_type": "stream",
     "text": [
      "0.02999422812928174\n",
      "0.028637397508489915\n",
      "0.026035973962495983\n"
     ]
    }
   ],
   "source": [
    "forest = RandomForestRegressor(n_estimators=25)\n",
    "forest.fit(X_train1, y_train1)\n",
    "y_train_pred = forest.predict(X_train)\n",
    "y_val_pred = forest.predict(X_val)\n",
    "y_test_pred = forest.predict(X_test)\n",
    "print(mean_squared_error(y_train, y_train_pred))\n",
    "print(mean_squared_error(y_val, y_val_pred))\n",
    "print(mean_squared_error(y_test, y_test_pred))"
   ]
  },
  {
   "cell_type": "markdown",
   "id": "ec4f7d10-4a3c-4804-b8db-e5fdcb2e6d9e",
   "metadata": {},
   "source": [
    "### Random Forest Model with Different n Trees"
   ]
  },
  {
   "cell_type": "code",
   "execution_count": 52,
   "id": "b55cbdf1-c2fb-4b6b-98d4-629760e57d93",
   "metadata": {},
   "outputs": [
    {
     "name": "stdout",
     "output_type": "stream",
     "text": [
      "[0.036492218560820425, 0.01540154175880238, 0.013158242785564666, 0.011904408448879354, 0.011388517849265763, 0.011073107211535902, 0.0110083504419442, 0.010942687821161302]\n",
      "[0.12072105813232402, 0.09274584686671371, 0.08812218185683003, 0.08643673001240165, 0.08526089032878792, 0.08430726564639651, 0.08426343031515328, 0.08371054699342959]\n"
     ]
    }
   ],
   "source": [
    "n_tree = [2,10,25,50,100,250,500,1000]\n",
    "train_error = []\n",
    "valid_error = []\n",
    "\n",
    "for i in n_tree:\n",
    "    forest = RandomForestRegressor(n_estimators= i)\n",
    "    forest.fit(X_train, y_train)\n",
    "    \n",
    "    y_train_pred = forest.predict(X_train)\n",
    "    y_val_pred = forest.predict(X_val)\n",
    "    \n",
    "    train_err = mean_squared_error(y_train, y_train_pred)\n",
    "    valid_err = mean_squared_error(y_val, y_val_pred)\n",
    "    \n",
    "    train_error.append(train_err)\n",
    "    valid_error.append(valid_err)\n",
    "\n",
    "print(train_error)\n",
    "print(valid_error)"
   ]
  },
  {
   "cell_type": "code",
   "execution_count": 57,
   "id": "6dba7476-cd08-4475-9eea-1f6b75eadb27",
   "metadata": {},
   "outputs": [],
   "source": [
    "data = {'trees':n_tree,\n",
    "        'train error':train_error,\n",
    "        'validation error':valid_error}"
   ]
  },
  {
   "cell_type": "code",
   "execution_count": 58,
   "id": "1dae6e03-1b14-4c09-8c8a-762a23b0ecfb",
   "metadata": {},
   "outputs": [],
   "source": [
    "forest_df = pd.DataFrame(data)"
   ]
  },
  {
   "cell_type": "code",
   "execution_count": 59,
   "id": "799d34c2-7dae-427b-8591-424a1d4f2d76",
   "metadata": {},
   "outputs": [
    {
     "data": {
      "text/html": [
       "<div>\n",
       "<style scoped>\n",
       "    .dataframe tbody tr th:only-of-type {\n",
       "        vertical-align: middle;\n",
       "    }\n",
       "\n",
       "    .dataframe tbody tr th {\n",
       "        vertical-align: top;\n",
       "    }\n",
       "\n",
       "    .dataframe thead th {\n",
       "        text-align: right;\n",
       "    }\n",
       "</style>\n",
       "<table border=\"1\" class=\"dataframe\">\n",
       "  <thead>\n",
       "    <tr style=\"text-align: right;\">\n",
       "      <th></th>\n",
       "      <th>trees</th>\n",
       "      <th>train error</th>\n",
       "      <th>validation error</th>\n",
       "    </tr>\n",
       "  </thead>\n",
       "  <tbody>\n",
       "    <tr>\n",
       "      <th>0</th>\n",
       "      <td>2</td>\n",
       "      <td>0.036492</td>\n",
       "      <td>0.120721</td>\n",
       "    </tr>\n",
       "    <tr>\n",
       "      <th>1</th>\n",
       "      <td>10</td>\n",
       "      <td>0.015402</td>\n",
       "      <td>0.092746</td>\n",
       "    </tr>\n",
       "    <tr>\n",
       "      <th>2</th>\n",
       "      <td>25</td>\n",
       "      <td>0.013158</td>\n",
       "      <td>0.088122</td>\n",
       "    </tr>\n",
       "    <tr>\n",
       "      <th>3</th>\n",
       "      <td>50</td>\n",
       "      <td>0.011904</td>\n",
       "      <td>0.086437</td>\n",
       "    </tr>\n",
       "    <tr>\n",
       "      <th>4</th>\n",
       "      <td>100</td>\n",
       "      <td>0.011389</td>\n",
       "      <td>0.085261</td>\n",
       "    </tr>\n",
       "    <tr>\n",
       "      <th>5</th>\n",
       "      <td>250</td>\n",
       "      <td>0.011073</td>\n",
       "      <td>0.084307</td>\n",
       "    </tr>\n",
       "    <tr>\n",
       "      <th>6</th>\n",
       "      <td>500</td>\n",
       "      <td>0.011008</td>\n",
       "      <td>0.084263</td>\n",
       "    </tr>\n",
       "    <tr>\n",
       "      <th>7</th>\n",
       "      <td>1000</td>\n",
       "      <td>0.010943</td>\n",
       "      <td>0.083711</td>\n",
       "    </tr>\n",
       "  </tbody>\n",
       "</table>\n",
       "</div>"
      ],
      "text/plain": [
       "   trees  train error  validation error\n",
       "0      2     0.036492          0.120721\n",
       "1     10     0.015402          0.092746\n",
       "2     25     0.013158          0.088122\n",
       "3     50     0.011904          0.086437\n",
       "4    100     0.011389          0.085261\n",
       "5    250     0.011073          0.084307\n",
       "6    500     0.011008          0.084263\n",
       "7   1000     0.010943          0.083711"
      ]
     },
     "execution_count": 59,
     "metadata": {},
     "output_type": "execute_result"
    }
   ],
   "source": [
    "forest_df"
   ]
  },
  {
   "cell_type": "code",
   "execution_count": 62,
   "id": "618cec0e-c3af-4160-951a-fb7e78c1566a",
   "metadata": {},
   "outputs": [
    {
     "data": {
      "text/plain": [
       "Text(0, 0.5, 'Mean Squared Error')"
      ]
     },
     "execution_count": 62,
     "metadata": {},
     "output_type": "execute_result"
    },
    {
     "data": {
      "image/png": "[encoded data removed]",
      "text/plain": [
       "<Figure size 640x480 with 1 Axes>"
      ]
     },
     "metadata": {},
     "output_type": "display_data"
    }
   ],
   "source": [
    "sns.scatterplot(data=forest_df, x='trees', y='train error', label='Train Error')\n",
    "sns.scatterplot(data=forest_df, x='trees', y='validation error', label='Validation Error')\n",
    "\n",
    "plt.xlabel('Number of Trees')\n",
    "plt.ylabel('Mean Squared Error')"
   ]
  },
  {
   "cell_type": "code",
   "execution_count": null,
   "id": "cff5d478-eb4f-49e0-aac8-8ae1eb9c96f3",
   "metadata": {},
   "outputs": [],
   "source": []
  }
 ],
 "metadata": {
  "kernelspec": {
   "display_name": "Python 3 (ipykernel)",
   "language": "python",
   "name": "python3"
  },
  "language_info": {
   "codemirror_mode": {
    "name": "ipython",
    "version": 3
   },
   "file_extension": ".py",
   "mimetype": "text/x-python",
   "name": "python",
   "nbconvert_exporter": "python",
   "pygments_lexer": "ipython3",
   "version": "3.10.12"
  }
 },
 "nbformat": 4,
 "nbformat_minor": 5
}
